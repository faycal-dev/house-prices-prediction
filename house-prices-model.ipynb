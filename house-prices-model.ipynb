{
 "cells": [
  {
   "cell_type": "raw",
   "metadata": {
    "_cell_guid": "b1076dfc-b9ad-4769-8c92-a6c4dae69d19",
    "_uuid": "8f2839f25d086af736a60e9eeb907d3b93b6e0e5"
   },
   "source": [
    "the dataset link:\n",
    "https://www.kaggle.com/amitabhajoy/bengaluru-house-price-data"
   ]
  },
  {
   "cell_type": "code",
   "execution_count": 1,
   "metadata": {
    "execution": {
     "iopub.execute_input": "2021-09-28T16:00:14.413895Z",
     "iopub.status.busy": "2021-09-28T16:00:14.413565Z",
     "iopub.status.idle": "2021-09-28T16:00:15.455745Z",
     "shell.execute_reply": "2021-09-28T16:00:15.455002Z",
     "shell.execute_reply.started": "2021-09-28T16:00:14.413816Z"
    }
   },
   "outputs": [],
   "source": [
    "import pandas as pd\n",
    "import numpy as np\n",
    "import seaborn as sns\n",
    "from matplotlib import pyplot as plt\n",
    "%matplotlib inline"
   ]
  },
  {
   "cell_type": "code",
   "execution_count": 2,
   "metadata": {
    "execution": {
     "iopub.execute_input": "2021-09-28T16:00:30.523999Z",
     "iopub.status.busy": "2021-09-28T16:00:30.523559Z",
     "iopub.status.idle": "2021-09-28T16:00:30.566572Z",
     "shell.execute_reply": "2021-09-28T16:00:30.565945Z",
     "shell.execute_reply.started": "2021-09-28T16:00:30.523969Z"
    }
   },
   "outputs": [
    {
     "data": {
      "text/html": [
       "<div>\n",
       "<style scoped>\n",
       "    .dataframe tbody tr th:only-of-type {\n",
       "        vertical-align: middle;\n",
       "    }\n",
       "\n",
       "    .dataframe tbody tr th {\n",
       "        vertical-align: top;\n",
       "    }\n",
       "\n",
       "    .dataframe thead th {\n",
       "        text-align: right;\n",
       "    }\n",
       "</style>\n",
       "<table border=\"1\" class=\"dataframe\">\n",
       "  <thead>\n",
       "    <tr style=\"text-align: right;\">\n",
       "      <th></th>\n",
       "      <th>area_type</th>\n",
       "      <th>availability</th>\n",
       "      <th>location</th>\n",
       "      <th>size</th>\n",
       "      <th>society</th>\n",
       "      <th>total_sqft</th>\n",
       "      <th>bath</th>\n",
       "      <th>balcony</th>\n",
       "      <th>price</th>\n",
       "    </tr>\n",
       "  </thead>\n",
       "  <tbody>\n",
       "    <tr>\n",
       "      <th>12394</th>\n",
       "      <td>Super built-up  Area</td>\n",
       "      <td>Ready To Move</td>\n",
       "      <td>Garudachar Palya</td>\n",
       "      <td>2 BHK</td>\n",
       "      <td>NaN</td>\n",
       "      <td>1154</td>\n",
       "      <td>2.0</td>\n",
       "      <td>1.0</td>\n",
       "      <td>51.8</td>\n",
       "    </tr>\n",
       "    <tr>\n",
       "      <th>11349</th>\n",
       "      <td>Super built-up  Area</td>\n",
       "      <td>17-Mar</td>\n",
       "      <td>Kammagondahalli</td>\n",
       "      <td>3 BHK</td>\n",
       "      <td>DiiteR</td>\n",
       "      <td>1347</td>\n",
       "      <td>2.0</td>\n",
       "      <td>2.0</td>\n",
       "      <td>55.0</td>\n",
       "    </tr>\n",
       "    <tr>\n",
       "      <th>1831</th>\n",
       "      <td>Super built-up  Area</td>\n",
       "      <td>Ready To Move</td>\n",
       "      <td>Chamrajpet</td>\n",
       "      <td>4 BHK</td>\n",
       "      <td>NaN</td>\n",
       "      <td>1900</td>\n",
       "      <td>2.0</td>\n",
       "      <td>1.0</td>\n",
       "      <td>170.0</td>\n",
       "    </tr>\n",
       "    <tr>\n",
       "      <th>391</th>\n",
       "      <td>Super built-up  Area</td>\n",
       "      <td>Ready To Move</td>\n",
       "      <td>Sompura</td>\n",
       "      <td>2 BHK</td>\n",
       "      <td>Suiseit</td>\n",
       "      <td>825</td>\n",
       "      <td>2.0</td>\n",
       "      <td>1.0</td>\n",
       "      <td>33.0</td>\n",
       "    </tr>\n",
       "    <tr>\n",
       "      <th>8840</th>\n",
       "      <td>Plot  Area</td>\n",
       "      <td>16-Dec</td>\n",
       "      <td>Chikka Tirupathi</td>\n",
       "      <td>4 Bedroom</td>\n",
       "      <td>Theanmp</td>\n",
       "      <td>4500</td>\n",
       "      <td>5.0</td>\n",
       "      <td>3.0</td>\n",
       "      <td>150.0</td>\n",
       "    </tr>\n",
       "  </tbody>\n",
       "</table>\n",
       "</div>"
      ],
      "text/plain": [
       "                  area_type   availability          location       size  \\\n",
       "12394  Super built-up  Area  Ready To Move  Garudachar Palya      2 BHK   \n",
       "11349  Super built-up  Area         17-Mar   Kammagondahalli      3 BHK   \n",
       "1831   Super built-up  Area  Ready To Move        Chamrajpet      4 BHK   \n",
       "391    Super built-up  Area  Ready To Move           Sompura      2 BHK   \n",
       "8840             Plot  Area         16-Dec  Chikka Tirupathi  4 Bedroom   \n",
       "\n",
       "       society total_sqft  bath  balcony  price  \n",
       "12394      NaN       1154   2.0      1.0   51.8  \n",
       "11349  DiiteR        1347   2.0      2.0   55.0  \n",
       "1831       NaN       1900   2.0      1.0  170.0  \n",
       "391    Suiseit        825   2.0      1.0   33.0  \n",
       "8840   Theanmp       4500   5.0      3.0  150.0  "
      ]
     },
     "execution_count": 2,
     "metadata": {},
     "output_type": "execute_result"
    }
   ],
   "source": [
    "df1 = pd.read_csv(\"./archive/Bengaluru_House_Data.csv\")\n",
    "df1.sample(5)"
   ]
  },
  {
   "cell_type": "code",
   "execution_count": 3,
   "metadata": {
    "execution": {
     "iopub.execute_input": "2021-09-28T16:01:02.922814Z",
     "iopub.status.busy": "2021-09-28T16:01:02.922364Z",
     "iopub.status.idle": "2021-09-28T16:01:02.929675Z",
     "shell.execute_reply": "2021-09-28T16:01:02.928784Z",
     "shell.execute_reply.started": "2021-09-28T16:01:02.922770Z"
    }
   },
   "outputs": [
    {
     "data": {
      "text/plain": [
       "(13320, 9)"
      ]
     },
     "execution_count": 3,
     "metadata": {},
     "output_type": "execute_result"
    }
   ],
   "source": [
    "df1.shape"
   ]
  },
  {
   "cell_type": "code",
   "execution_count": 4,
   "metadata": {
    "execution": {
     "iopub.execute_input": "2021-09-28T16:01:34.044921Z",
     "iopub.status.busy": "2021-09-28T16:01:34.044235Z",
     "iopub.status.idle": "2021-09-28T16:01:34.048805Z",
     "shell.execute_reply": "2021-09-28T16:01:34.048204Z",
     "shell.execute_reply.started": "2021-09-28T16:01:34.044881Z"
    }
   },
   "outputs": [],
   "source": [
    "# first we will change the total_sqft column into numerical values \n",
    "# this function will indicate if the value is float or not \n",
    "def is_float(x):\n",
    "    try:\n",
    "        float(x)\n",
    "    except:\n",
    "        return False\n",
    "    return True"
   ]
  },
  {
   "cell_type": "code",
   "execution_count": 5,
   "metadata": {
    "execution": {
     "iopub.execute_input": "2021-09-28T16:01:49.244506Z",
     "iopub.status.busy": "2021-09-28T16:01:49.243936Z",
     "iopub.status.idle": "2021-09-28T16:01:49.278964Z",
     "shell.execute_reply": "2021-09-28T16:01:49.278205Z",
     "shell.execute_reply.started": "2021-09-28T16:01:49.244462Z"
    }
   },
   "outputs": [
    {
     "data": {
      "text/html": [
       "<div>\n",
       "<style scoped>\n",
       "    .dataframe tbody tr th:only-of-type {\n",
       "        vertical-align: middle;\n",
       "    }\n",
       "\n",
       "    .dataframe tbody tr th {\n",
       "        vertical-align: top;\n",
       "    }\n",
       "\n",
       "    .dataframe thead th {\n",
       "        text-align: right;\n",
       "    }\n",
       "</style>\n",
       "<table border=\"1\" class=\"dataframe\">\n",
       "  <thead>\n",
       "    <tr style=\"text-align: right;\">\n",
       "      <th></th>\n",
       "      <th>area_type</th>\n",
       "      <th>availability</th>\n",
       "      <th>location</th>\n",
       "      <th>size</th>\n",
       "      <th>society</th>\n",
       "      <th>total_sqft</th>\n",
       "      <th>bath</th>\n",
       "      <th>balcony</th>\n",
       "      <th>price</th>\n",
       "    </tr>\n",
       "  </thead>\n",
       "  <tbody>\n",
       "    <tr>\n",
       "      <th>30</th>\n",
       "      <td>Super built-up  Area</td>\n",
       "      <td>19-Dec</td>\n",
       "      <td>Yelahanka</td>\n",
       "      <td>4 BHK</td>\n",
       "      <td>LedorSa</td>\n",
       "      <td>2100 - 2850</td>\n",
       "      <td>4.0</td>\n",
       "      <td>0.0</td>\n",
       "      <td>186.000</td>\n",
       "    </tr>\n",
       "    <tr>\n",
       "      <th>56</th>\n",
       "      <td>Built-up  Area</td>\n",
       "      <td>20-Feb</td>\n",
       "      <td>Devanahalli</td>\n",
       "      <td>4 Bedroom</td>\n",
       "      <td>BrereAt</td>\n",
       "      <td>3010 - 3410</td>\n",
       "      <td>NaN</td>\n",
       "      <td>NaN</td>\n",
       "      <td>192.000</td>\n",
       "    </tr>\n",
       "    <tr>\n",
       "      <th>81</th>\n",
       "      <td>Built-up  Area</td>\n",
       "      <td>18-Oct</td>\n",
       "      <td>Hennur Road</td>\n",
       "      <td>4 Bedroom</td>\n",
       "      <td>Gollela</td>\n",
       "      <td>2957 - 3450</td>\n",
       "      <td>NaN</td>\n",
       "      <td>NaN</td>\n",
       "      <td>224.500</td>\n",
       "    </tr>\n",
       "    <tr>\n",
       "      <th>122</th>\n",
       "      <td>Super built-up  Area</td>\n",
       "      <td>18-Mar</td>\n",
       "      <td>Hebbal</td>\n",
       "      <td>4 BHK</td>\n",
       "      <td>SNontle</td>\n",
       "      <td>3067 - 8156</td>\n",
       "      <td>4.0</td>\n",
       "      <td>0.0</td>\n",
       "      <td>477.000</td>\n",
       "    </tr>\n",
       "    <tr>\n",
       "      <th>137</th>\n",
       "      <td>Super built-up  Area</td>\n",
       "      <td>19-Mar</td>\n",
       "      <td>8th Phase JP Nagar</td>\n",
       "      <td>2 BHK</td>\n",
       "      <td>Vaarech</td>\n",
       "      <td>1042 - 1105</td>\n",
       "      <td>2.0</td>\n",
       "      <td>0.0</td>\n",
       "      <td>54.005</td>\n",
       "    </tr>\n",
       "    <tr>\n",
       "      <th>...</th>\n",
       "      <td>...</td>\n",
       "      <td>...</td>\n",
       "      <td>...</td>\n",
       "      <td>...</td>\n",
       "      <td>...</td>\n",
       "      <td>...</td>\n",
       "      <td>...</td>\n",
       "      <td>...</td>\n",
       "      <td>...</td>\n",
       "    </tr>\n",
       "    <tr>\n",
       "      <th>12990</th>\n",
       "      <td>Super built-up  Area</td>\n",
       "      <td>18-May</td>\n",
       "      <td>Talaghattapura</td>\n",
       "      <td>3 BHK</td>\n",
       "      <td>Sodgere</td>\n",
       "      <td>1804 - 2273</td>\n",
       "      <td>3.0</td>\n",
       "      <td>0.0</td>\n",
       "      <td>122.000</td>\n",
       "    </tr>\n",
       "    <tr>\n",
       "      <th>13059</th>\n",
       "      <td>Super built-up  Area</td>\n",
       "      <td>Ready To Move</td>\n",
       "      <td>Harlur</td>\n",
       "      <td>2 BHK</td>\n",
       "      <td>Shodsir</td>\n",
       "      <td>1200 - 1470</td>\n",
       "      <td>2.0</td>\n",
       "      <td>0.0</td>\n",
       "      <td>72.760</td>\n",
       "    </tr>\n",
       "    <tr>\n",
       "      <th>13240</th>\n",
       "      <td>Super built-up  Area</td>\n",
       "      <td>Ready To Move</td>\n",
       "      <td>Devanahalli</td>\n",
       "      <td>1 BHK</td>\n",
       "      <td>Pardsri</td>\n",
       "      <td>1020 - 1130</td>\n",
       "      <td>NaN</td>\n",
       "      <td>NaN</td>\n",
       "      <td>52.570</td>\n",
       "    </tr>\n",
       "    <tr>\n",
       "      <th>13265</th>\n",
       "      <td>Super built-up  Area</td>\n",
       "      <td>20-Sep</td>\n",
       "      <td>Hoodi</td>\n",
       "      <td>2 BHK</td>\n",
       "      <td>Ranuetz</td>\n",
       "      <td>1133 - 1384</td>\n",
       "      <td>2.0</td>\n",
       "      <td>0.0</td>\n",
       "      <td>59.135</td>\n",
       "    </tr>\n",
       "    <tr>\n",
       "      <th>13299</th>\n",
       "      <td>Super built-up  Area</td>\n",
       "      <td>18-Dec</td>\n",
       "      <td>Whitefield</td>\n",
       "      <td>4 BHK</td>\n",
       "      <td>Prtates</td>\n",
       "      <td>2830 - 2882</td>\n",
       "      <td>5.0</td>\n",
       "      <td>0.0</td>\n",
       "      <td>154.500</td>\n",
       "    </tr>\n",
       "  </tbody>\n",
       "</table>\n",
       "<p>247 rows × 9 columns</p>\n",
       "</div>"
      ],
      "text/plain": [
       "                  area_type   availability            location       size  \\\n",
       "30     Super built-up  Area         19-Dec           Yelahanka      4 BHK   \n",
       "56           Built-up  Area         20-Feb         Devanahalli  4 Bedroom   \n",
       "81           Built-up  Area         18-Oct         Hennur Road  4 Bedroom   \n",
       "122    Super built-up  Area         18-Mar              Hebbal      4 BHK   \n",
       "137    Super built-up  Area         19-Mar  8th Phase JP Nagar      2 BHK   \n",
       "...                     ...            ...                 ...        ...   \n",
       "12990  Super built-up  Area         18-May      Talaghattapura      3 BHK   \n",
       "13059  Super built-up  Area  Ready To Move              Harlur      2 BHK   \n",
       "13240  Super built-up  Area  Ready To Move         Devanahalli      1 BHK   \n",
       "13265  Super built-up  Area         20-Sep               Hoodi      2 BHK   \n",
       "13299  Super built-up  Area         18-Dec          Whitefield      4 BHK   \n",
       "\n",
       "       society   total_sqft  bath  balcony    price  \n",
       "30     LedorSa  2100 - 2850   4.0      0.0  186.000  \n",
       "56     BrereAt  3010 - 3410   NaN      NaN  192.000  \n",
       "81     Gollela  2957 - 3450   NaN      NaN  224.500  \n",
       "122    SNontle  3067 - 8156   4.0      0.0  477.000  \n",
       "137    Vaarech  1042 - 1105   2.0      0.0   54.005  \n",
       "...        ...          ...   ...      ...      ...  \n",
       "12990  Sodgere  1804 - 2273   3.0      0.0  122.000  \n",
       "13059  Shodsir  1200 - 1470   2.0      0.0   72.760  \n",
       "13240  Pardsri  1020 - 1130   NaN      NaN   52.570  \n",
       "13265  Ranuetz  1133 - 1384   2.0      0.0   59.135  \n",
       "13299  Prtates  2830 - 2882   5.0      0.0  154.500  \n",
       "\n",
       "[247 rows x 9 columns]"
      ]
     },
     "execution_count": 5,
     "metadata": {},
     "output_type": "execute_result"
    }
   ],
   "source": [
    "df1[df1[\"total_sqft\"].apply(is_float) == False]\n",
    "# all the returnd values are not float"
   ]
  },
  {
   "cell_type": "code",
   "execution_count": 6,
   "metadata": {
    "execution": {
     "iopub.execute_input": "2021-09-28T16:02:10.364330Z",
     "iopub.status.busy": "2021-09-28T16:02:10.363998Z",
     "iopub.status.idle": "2021-09-28T16:02:10.370402Z",
     "shell.execute_reply": "2021-09-28T16:02:10.369484Z",
     "shell.execute_reply.started": "2021-09-28T16:02:10.364303Z"
    }
   },
   "outputs": [],
   "source": [
    "def convert_sqft_to_num(x):\n",
    "    token = x.split('-')\n",
    "    if len(token) == 2 :\n",
    "        return (float(token[0]) + float(token[1]))/2\n",
    "    try:\n",
    "        return float(x)\n",
    "    except:\n",
    "        return None"
   ]
  },
  {
   "cell_type": "code",
   "execution_count": 7,
   "metadata": {
    "execution": {
     "iopub.execute_input": "2021-09-28T16:02:19.323206Z",
     "iopub.status.busy": "2021-09-28T16:02:19.322886Z",
     "iopub.status.idle": "2021-09-28T16:02:19.344466Z",
     "shell.execute_reply": "2021-09-28T16:02:19.343596Z",
     "shell.execute_reply.started": "2021-09-28T16:02:19.323174Z"
    }
   },
   "outputs": [],
   "source": [
    "df2 = df1.copy()\n",
    "df2[\"total_sqft\"] = df1[\"total_sqft\"].apply(convert_sqft_to_num)"
   ]
  },
  {
   "cell_type": "code",
   "execution_count": 8,
   "metadata": {
    "execution": {
     "iopub.execute_input": "2021-09-28T16:02:39.472468Z",
     "iopub.status.busy": "2021-09-28T16:02:39.472147Z",
     "iopub.status.idle": "2021-09-28T16:02:39.486081Z",
     "shell.execute_reply": "2021-09-28T16:02:39.485114Z",
     "shell.execute_reply.started": "2021-09-28T16:02:39.472432Z"
    }
   },
   "outputs": [
    {
     "data": {
      "text/plain": [
       "0"
      ]
     },
     "execution_count": 8,
     "metadata": {},
     "output_type": "execute_result"
    }
   ],
   "source": [
    "len(df2[df2[\"total_sqft\"].apply(is_float) == False])"
   ]
  },
  {
   "cell_type": "code",
   "execution_count": 9,
   "metadata": {
    "execution": {
     "iopub.execute_input": "2021-09-28T16:02:54.124267Z",
     "iopub.status.busy": "2021-09-28T16:02:54.123566Z",
     "iopub.status.idle": "2021-09-28T16:02:54.134178Z",
     "shell.execute_reply": "2021-09-28T16:02:54.133519Z",
     "shell.execute_reply.started": "2021-09-28T16:02:54.124223Z"
    }
   },
   "outputs": [
    {
     "data": {
      "text/plain": [
       "array(['2 BHK', '4 Bedroom', '3 BHK', '4 BHK', '6 Bedroom', '3 Bedroom',\n",
       "       '1 BHK', '1 RK', '1 Bedroom', '8 Bedroom', '2 Bedroom',\n",
       "       '7 Bedroom', '5 BHK', '7 BHK', '6 BHK', '5 Bedroom', '11 BHK',\n",
       "       '9 BHK', nan, '9 Bedroom', '27 BHK', '10 Bedroom', '11 Bedroom',\n",
       "       '10 BHK', '19 BHK', '16 BHK', '43 Bedroom', '14 BHK', '8 BHK',\n",
       "       '12 Bedroom', '13 BHK', '18 Bedroom'], dtype=object)"
      ]
     },
     "execution_count": 9,
     "metadata": {},
     "output_type": "execute_result"
    }
   ],
   "source": [
    "# then lets change the size column to numirical\n",
    "df2[\"size\"].unique()"
   ]
  },
  {
   "cell_type": "code",
   "execution_count": 10,
   "metadata": {
    "execution": {
     "iopub.execute_input": "2021-09-28T16:03:14.683442Z",
     "iopub.status.busy": "2021-09-28T16:03:14.683160Z",
     "iopub.status.idle": "2021-09-28T16:03:14.688640Z",
     "shell.execute_reply": "2021-09-28T16:03:14.687662Z",
     "shell.execute_reply.started": "2021-09-28T16:03:14.683414Z"
    }
   },
   "outputs": [],
   "source": [
    "def str_to_int(x):\n",
    "    try:\n",
    "        x = int(x.split(\" \")[0])\n",
    "        return x\n",
    "    except:\n",
    "        return x  "
   ]
  },
  {
   "cell_type": "code",
   "execution_count": 11,
   "metadata": {
    "execution": {
     "iopub.execute_input": "2021-09-28T16:03:36.064332Z",
     "iopub.status.busy": "2021-09-28T16:03:36.064043Z",
     "iopub.status.idle": "2021-09-28T16:03:36.101661Z",
     "shell.execute_reply": "2021-09-28T16:03:36.101107Z",
     "shell.execute_reply.started": "2021-09-28T16:03:36.064303Z"
    }
   },
   "outputs": [
    {
     "data": {
      "text/html": [
       "<div>\n",
       "<style scoped>\n",
       "    .dataframe tbody tr th:only-of-type {\n",
       "        vertical-align: middle;\n",
       "    }\n",
       "\n",
       "    .dataframe tbody tr th {\n",
       "        vertical-align: top;\n",
       "    }\n",
       "\n",
       "    .dataframe thead th {\n",
       "        text-align: right;\n",
       "    }\n",
       "</style>\n",
       "<table border=\"1\" class=\"dataframe\">\n",
       "  <thead>\n",
       "    <tr style=\"text-align: right;\">\n",
       "      <th></th>\n",
       "      <th>area_type</th>\n",
       "      <th>availability</th>\n",
       "      <th>location</th>\n",
       "      <th>society</th>\n",
       "      <th>total_sqft</th>\n",
       "      <th>bath</th>\n",
       "      <th>balcony</th>\n",
       "      <th>price</th>\n",
       "      <th>badrooms</th>\n",
       "    </tr>\n",
       "  </thead>\n",
       "  <tbody>\n",
       "    <tr>\n",
       "      <th>0</th>\n",
       "      <td>Super built-up  Area</td>\n",
       "      <td>19-Dec</td>\n",
       "      <td>Electronic City Phase II</td>\n",
       "      <td>Coomee</td>\n",
       "      <td>1056.0</td>\n",
       "      <td>2.0</td>\n",
       "      <td>1.0</td>\n",
       "      <td>39.07</td>\n",
       "      <td>2.0</td>\n",
       "    </tr>\n",
       "    <tr>\n",
       "      <th>1</th>\n",
       "      <td>Plot  Area</td>\n",
       "      <td>Ready To Move</td>\n",
       "      <td>Chikka Tirupathi</td>\n",
       "      <td>Theanmp</td>\n",
       "      <td>2600.0</td>\n",
       "      <td>5.0</td>\n",
       "      <td>3.0</td>\n",
       "      <td>120.00</td>\n",
       "      <td>4.0</td>\n",
       "    </tr>\n",
       "    <tr>\n",
       "      <th>2</th>\n",
       "      <td>Built-up  Area</td>\n",
       "      <td>Ready To Move</td>\n",
       "      <td>Uttarahalli</td>\n",
       "      <td>NaN</td>\n",
       "      <td>1440.0</td>\n",
       "      <td>2.0</td>\n",
       "      <td>3.0</td>\n",
       "      <td>62.00</td>\n",
       "      <td>3.0</td>\n",
       "    </tr>\n",
       "    <tr>\n",
       "      <th>3</th>\n",
       "      <td>Super built-up  Area</td>\n",
       "      <td>Ready To Move</td>\n",
       "      <td>Lingadheeranahalli</td>\n",
       "      <td>Soiewre</td>\n",
       "      <td>1521.0</td>\n",
       "      <td>3.0</td>\n",
       "      <td>1.0</td>\n",
       "      <td>95.00</td>\n",
       "      <td>3.0</td>\n",
       "    </tr>\n",
       "    <tr>\n",
       "      <th>4</th>\n",
       "      <td>Super built-up  Area</td>\n",
       "      <td>Ready To Move</td>\n",
       "      <td>Kothanur</td>\n",
       "      <td>NaN</td>\n",
       "      <td>1200.0</td>\n",
       "      <td>2.0</td>\n",
       "      <td>1.0</td>\n",
       "      <td>51.00</td>\n",
       "      <td>2.0</td>\n",
       "    </tr>\n",
       "  </tbody>\n",
       "</table>\n",
       "</div>"
      ],
      "text/plain": [
       "              area_type   availability                  location  society  \\\n",
       "0  Super built-up  Area         19-Dec  Electronic City Phase II  Coomee    \n",
       "1            Plot  Area  Ready To Move          Chikka Tirupathi  Theanmp   \n",
       "2        Built-up  Area  Ready To Move               Uttarahalli      NaN   \n",
       "3  Super built-up  Area  Ready To Move        Lingadheeranahalli  Soiewre   \n",
       "4  Super built-up  Area  Ready To Move                  Kothanur      NaN   \n",
       "\n",
       "   total_sqft  bath  balcony   price  badrooms  \n",
       "0      1056.0   2.0      1.0   39.07       2.0  \n",
       "1      2600.0   5.0      3.0  120.00       4.0  \n",
       "2      1440.0   2.0      3.0   62.00       3.0  \n",
       "3      1521.0   3.0      1.0   95.00       3.0  \n",
       "4      1200.0   2.0      1.0   51.00       2.0  "
      ]
     },
     "execution_count": 11,
     "metadata": {},
     "output_type": "execute_result"
    }
   ],
   "source": [
    "df2[\"badrooms\"] = df1[\"size\"].apply(str_to_int)\n",
    "df2.drop(\"size\", axis=\"columns\",inplace=True)\n",
    "df2.head()"
   ]
  },
  {
   "cell_type": "markdown",
   "metadata": {},
   "source": [
    "<h1>1- Explore the missing data</h1>"
   ]
  },
  {
   "cell_type": "code",
   "execution_count": 12,
   "metadata": {
    "execution": {
     "iopub.execute_input": "2021-09-28T16:04:23.784022Z",
     "iopub.status.busy": "2021-09-28T16:04:23.783297Z",
     "iopub.status.idle": "2021-09-28T16:04:23.798630Z",
     "shell.execute_reply": "2021-09-28T16:04:23.797758Z",
     "shell.execute_reply.started": "2021-09-28T16:04:23.783976Z"
    }
   },
   "outputs": [
    {
     "data": {
      "text/plain": [
       "area_type          0\n",
       "availability       0\n",
       "location           1\n",
       "society         5502\n",
       "total_sqft        46\n",
       "bath              73\n",
       "balcony          609\n",
       "price              0\n",
       "badrooms          16\n",
       "dtype: int64"
      ]
     },
     "execution_count": 12,
     "metadata": {},
     "output_type": "execute_result"
    }
   ],
   "source": [
    "# 1- Explore the missing data\n",
    "df2.isnull().sum()"
   ]
  },
  {
   "cell_type": "code",
   "execution_count": 13,
   "metadata": {
    "execution": {
     "iopub.execute_input": "2021-09-28T16:04:53.031605Z",
     "iopub.status.busy": "2021-09-28T16:04:53.031326Z",
     "iopub.status.idle": "2021-09-28T16:04:53.391362Z",
     "shell.execute_reply": "2021-09-28T16:04:53.390399Z",
     "shell.execute_reply.started": "2021-09-28T16:04:53.031576Z"
    }
   },
   "outputs": [
    {
     "data": {
      "text/plain": [
       "<AxesSubplot:>"
      ]
     },
     "execution_count": 13,
     "metadata": {},
     "output_type": "execute_result"
    },
    {
     "data": {
      "image/png": "[encoded data removed]",
      "text/plain": [
       "<Figure size 432x288 with 1 Axes>"
      ]
     },
     "metadata": {
      "needs_background": "light"
     },
     "output_type": "display_data"
    }
   ],
   "source": [
    "sns.heatmap(df2.isnull(),yticklabels=False,cbar=False,cmap='viridis')\n",
    "# the yellow lines are the missing data so we notice that society have too much missing data so we will drop it"
   ]
  },
  {
   "cell_type": "code",
   "execution_count": 14,
   "metadata": {
    "execution": {
     "iopub.execute_input": "2021-09-28T16:05:06.729745Z",
     "iopub.status.busy": "2021-09-28T16:05:06.729420Z",
     "iopub.status.idle": "2021-09-28T16:05:06.739914Z",
     "shell.execute_reply": "2021-09-28T16:05:06.739023Z",
     "shell.execute_reply.started": "2021-09-28T16:05:06.729716Z"
    }
   },
   "outputs": [
    {
     "data": {
      "text/plain": [
       "(13320, 8)"
      ]
     },
     "execution_count": 14,
     "metadata": {},
     "output_type": "execute_result"
    }
   ],
   "source": [
    "df2.drop(\"society\", axis=\"columns\",inplace=True)\n",
    "df2.shape"
   ]
  },
  {
   "cell_type": "code",
   "execution_count": 15,
   "metadata": {
    "execution": {
     "iopub.execute_input": "2021-09-28T16:05:21.511170Z",
     "iopub.status.busy": "2021-09-28T16:05:21.510528Z",
     "iopub.status.idle": "2021-09-28T16:05:21.834362Z",
     "shell.execute_reply": "2021-09-28T16:05:21.833386Z",
     "shell.execute_reply.started": "2021-09-28T16:05:21.511125Z"
    }
   },
   "outputs": [
    {
     "data": {
      "text/plain": [
       "<AxesSubplot:>"
      ]
     },
     "execution_count": 15,
     "metadata": {},
     "output_type": "execute_result"
    },
    {
     "data": {
      "image/png": "[encoded data removed]",
      "text/plain": [
       "<Figure size 432x288 with 1 Axes>"
      ]
     },
     "metadata": {
      "needs_background": "light"
     },
     "output_type": "display_data"
    }
   ],
   "source": [
    "sns.heatmap(df2.isnull(),yticklabels=False,cbar=False,cmap='viridis')\n",
    "# now we need to handle the other missing values"
   ]
  },
  {
   "cell_type": "code",
   "execution_count": 16,
   "metadata": {
    "execution": {
     "iopub.execute_input": "2021-09-28T16:05:37.396133Z",
     "iopub.status.busy": "2021-09-28T16:05:37.395803Z",
     "iopub.status.idle": "2021-09-28T16:05:37.730254Z",
     "shell.execute_reply": "2021-09-28T16:05:37.729306Z",
     "shell.execute_reply.started": "2021-09-28T16:05:37.396097Z"
    }
   },
   "outputs": [
    {
     "data": {
      "text/plain": [
       "<AxesSubplot:xlabel='bath', ylabel='count'>"
      ]
     },
     "execution_count": 16,
     "metadata": {},
     "output_type": "execute_result"
    },
    {
     "data": {
      "image/png": "[encoded data removed]",
      "text/plain": [
       "<Figure size 432x288 with 1 Axes>"
      ]
     },
     "metadata": {
      "needs_background": "light"
     },
     "output_type": "display_data"
    }
   ],
   "source": [
    "sns.countplot(x=df2[\"bath\"])\n",
    "# the majority have 2 baths"
   ]
  },
  {
   "cell_type": "code",
   "execution_count": 17,
   "metadata": {
    "execution": {
     "iopub.execute_input": "2021-09-28T16:05:58.450580Z",
     "iopub.status.busy": "2021-09-28T16:05:58.450223Z",
     "iopub.status.idle": "2021-09-28T16:05:58.643682Z",
     "shell.execute_reply": "2021-09-28T16:05:58.642738Z",
     "shell.execute_reply.started": "2021-09-28T16:05:58.450526Z"
    }
   },
   "outputs": [
    {
     "data": {
      "text/plain": [
       "<AxesSubplot:xlabel='balcony', ylabel='count'>"
      ]
     },
     "execution_count": 17,
     "metadata": {},
     "output_type": "execute_result"
    },
    {
     "data": {
      "image/png": "[encoded data removed]",
      "text/plain": [
       "<Figure size 432x288 with 1 Axes>"
      ]
     },
     "metadata": {
      "needs_background": "light"
     },
     "output_type": "display_data"
    }
   ],
   "source": [
    "sns.countplot(x=df2[\"balcony\"])\n",
    "# the majority of houses have 2 or 1 balcony"
   ]
  },
  {
   "cell_type": "code",
   "execution_count": 18,
   "metadata": {
    "execution": {
     "iopub.execute_input": "2021-09-28T16:06:25.911624Z",
     "iopub.status.busy": "2021-09-28T16:06:25.911321Z",
     "iopub.status.idle": "2021-09-28T16:06:26.231068Z",
     "shell.execute_reply": "2021-09-28T16:06:26.230121Z",
     "shell.execute_reply.started": "2021-09-28T16:06:25.911590Z"
    }
   },
   "outputs": [
    {
     "data": {
      "text/plain": [
       "<AxesSubplot:xlabel='badrooms', ylabel='count'>"
      ]
     },
     "execution_count": 18,
     "metadata": {},
     "output_type": "execute_result"
    },
    {
     "data": {
      "image/png": "[encoded data removed]",
      "text/plain": [
       "<Figure size 432x288 with 1 Axes>"
      ]
     },
     "metadata": {
      "needs_background": "light"
     },
     "output_type": "display_data"
    }
   ],
   "source": [
    "sns.countplot(x=df2[\"badrooms\"])"
   ]
  },
  {
   "cell_type": "code",
   "execution_count": 19,
   "metadata": {
    "execution": {
     "iopub.execute_input": "2021-09-28T16:08:24.509601Z",
     "iopub.status.busy": "2021-09-28T16:08:24.509059Z",
     "iopub.status.idle": "2021-09-28T16:08:24.524629Z",
     "shell.execute_reply": "2021-09-28T16:08:24.523795Z",
     "shell.execute_reply.started": "2021-09-28T16:08:24.509559Z"
    }
   },
   "outputs": [
    {
     "data": {
      "text/plain": [
       "area_type         0\n",
       "availability      0\n",
       "location          1\n",
       "total_sqft       46\n",
       "bath             73\n",
       "balcony         609\n",
       "price             0\n",
       "badrooms          0\n",
       "dtype: int64"
      ]
     },
     "execution_count": 19,
     "metadata": {},
     "output_type": "execute_result"
    }
   ],
   "source": [
    "# since the majority of the bedrooms are 2 we will fill the null values with 2\n",
    "df2[\"badrooms\"].fillna(2,inplace=True)\n",
    "df2.isnull().sum()"
   ]
  },
  {
   "cell_type": "code",
   "execution_count": 20,
   "metadata": {
    "execution": {
     "iopub.execute_input": "2021-09-28T16:10:09.866960Z",
     "iopub.status.busy": "2021-09-28T16:10:09.866077Z",
     "iopub.status.idle": "2021-09-28T16:10:10.387921Z",
     "shell.execute_reply": "2021-09-28T16:10:10.386999Z",
     "shell.execute_reply.started": "2021-09-28T16:10:09.866908Z"
    }
   },
   "outputs": [
    {
     "data": {
      "text/plain": [
       "<AxesSubplot:xlabel='badrooms', ylabel='balcony'>"
      ]
     },
     "execution_count": 20,
     "metadata": {},
     "output_type": "execute_result"
    },
    {
     "data": {
      "image/png": "[encoded data removed]",
      "text/plain": [
       "<Figure size 864x504 with 1 Axes>"
      ]
     },
     "metadata": {
      "needs_background": "light"
     },
     "output_type": "display_data"
    }
   ],
   "source": [
    "# lets see the relationship between the badrooms and the balcony\n",
    "plt.figure(figsize=(12, 7))\n",
    "sns.boxplot(x='badrooms',y='balcony',data=df2,palette='winter')"
   ]
  },
  {
   "cell_type": "code",
   "execution_count": 21,
   "metadata": {
    "execution": {
     "iopub.execute_input": "2021-09-28T16:11:07.289977Z",
     "iopub.status.busy": "2021-09-28T16:11:07.289662Z",
     "iopub.status.idle": "2021-09-28T16:11:07.296827Z",
     "shell.execute_reply": "2021-09-28T16:11:07.295825Z",
     "shell.execute_reply.started": "2021-09-28T16:11:07.289943Z"
    }
   },
   "outputs": [],
   "source": [
    "def replace_nan_in_balcony(col):\n",
    "    balcony = col[0]\n",
    "    badrooms = col[1]\n",
    "    if pd.isnull(balcony):\n",
    "        if badrooms == 1:\n",
    "            return 0\n",
    "        elif (badrooms == 2) | (badrooms == 3) | (badrooms == 4) | (badrooms == 5):\n",
    "            return 1\n",
    "        elif (badrooms > 5) & (badrooms < 10):\n",
    "            return 2\n",
    "        else: \n",
    "            return 3\n",
    "    else:\n",
    "        return balcony"
   ]
  },
  {
   "cell_type": "code",
   "execution_count": 22,
   "metadata": {
    "execution": {
     "iopub.execute_input": "2021-09-28T16:11:20.168790Z",
     "iopub.status.busy": "2021-09-28T16:11:20.168484Z",
     "iopub.status.idle": "2021-09-28T16:11:20.393663Z",
     "shell.execute_reply": "2021-09-28T16:11:20.392765Z",
     "shell.execute_reply.started": "2021-09-28T16:11:20.168758Z"
    }
   },
   "outputs": [
    {
     "data": {
      "text/plain": [
       "area_type        0\n",
       "availability     0\n",
       "location         1\n",
       "total_sqft      46\n",
       "bath            73\n",
       "balcony          0\n",
       "price            0\n",
       "badrooms         0\n",
       "dtype: int64"
      ]
     },
     "execution_count": 22,
     "metadata": {},
     "output_type": "execute_result"
    }
   ],
   "source": [
    "df2[\"balcony\"] = df2[['balcony','badrooms']].apply(replace_nan_in_balcony,axis=1)\n",
    "df2.isnull().sum()"
   ]
  },
  {
   "cell_type": "code",
   "execution_count": 23,
   "metadata": {
    "execution": {
     "iopub.execute_input": "2021-09-28T16:11:53.870387Z",
     "iopub.status.busy": "2021-09-28T16:11:53.869982Z",
     "iopub.status.idle": "2021-09-28T16:11:53.883166Z",
     "shell.execute_reply": "2021-09-28T16:11:53.882484Z",
     "shell.execute_reply.started": "2021-09-28T16:11:53.870353Z"
    }
   },
   "outputs": [
    {
     "data": {
      "text/plain": [
       "badrooms\n",
       "1.0       750.916121\n",
       "2.0      1141.480463\n",
       "3.0      1676.947830\n",
       "4.0      2715.812125\n",
       "5.0      2408.119574\n",
       "6.0      2044.463500\n",
       "7.0      2309.750000\n",
       "8.0      1922.056818\n",
       "9.0      2928.557692\n",
       "10.0     3411.142857\n",
       "11.0     3350.000000\n",
       "12.0     2232.000000\n",
       "13.0     5425.000000\n",
       "14.0     1250.000000\n",
       "16.0    10000.000000\n",
       "18.0     1200.000000\n",
       "19.0     2000.000000\n",
       "27.0     8000.000000\n",
       "43.0     2400.000000\n",
       "Name: total_sqft, dtype: float64"
      ]
     },
     "execution_count": 23,
     "metadata": {},
     "output_type": "execute_result"
    }
   ],
   "source": [
    "df2.groupby(\"badrooms\")[\"total_sqft\"].mean()\n",
    "# here we have the mean of total sqft for every number of badrooms"
   ]
  },
  {
   "cell_type": "code",
   "execution_count": 24,
   "metadata": {
    "execution": {
     "iopub.execute_input": "2021-09-28T16:12:19.430921Z",
     "iopub.status.busy": "2021-09-28T16:12:19.429817Z",
     "iopub.status.idle": "2021-09-28T16:12:19.436460Z",
     "shell.execute_reply": "2021-09-28T16:12:19.435565Z",
     "shell.execute_reply.started": "2021-09-28T16:12:19.430874Z"
    }
   },
   "outputs": [],
   "source": [
    "def replace_nan_in_sqft(col):\n",
    "    sqft = col[0]\n",
    "    badrooms = col[1] \n",
    "    means = df2.groupby(\"badrooms\")[\"total_sqft\"].mean()\n",
    "    if pd.isnull(sqft):\n",
    "        return means[badrooms]\n",
    "    else:\n",
    "        return sqft"
   ]
  },
  {
   "cell_type": "code",
   "execution_count": 25,
   "metadata": {
    "execution": {
     "iopub.execute_input": "2021-09-28T16:12:38.731209Z",
     "iopub.status.busy": "2021-09-28T16:12:38.730504Z",
     "iopub.status.idle": "2021-09-28T16:12:38.950566Z",
     "shell.execute_reply": "2021-09-28T16:12:38.949688Z",
     "shell.execute_reply.started": "2021-09-28T16:12:38.731165Z"
    }
   },
   "outputs": [
    {
     "data": {
      "text/plain": [
       "area_type        0\n",
       "availability     0\n",
       "location         1\n",
       "total_sqft       0\n",
       "bath            73\n",
       "balcony          0\n",
       "price            0\n",
       "badrooms         0\n",
       "dtype: int64"
      ]
     },
     "execution_count": 25,
     "metadata": {},
     "output_type": "execute_result"
    }
   ],
   "source": [
    "df2[\"total_sqft\"] = df2[['total_sqft','badrooms']].apply(replace_nan_in_balcony,axis=1)\n",
    "df2.isnull().sum()"
   ]
  },
  {
   "cell_type": "code",
   "execution_count": 26,
   "metadata": {
    "execution": {
     "iopub.execute_input": "2021-09-28T16:13:15.934995Z",
     "iopub.status.busy": "2021-09-28T16:13:15.934697Z",
     "iopub.status.idle": "2021-09-28T16:13:15.957225Z",
     "shell.execute_reply": "2021-09-28T16:13:15.955942Z",
     "shell.execute_reply.started": "2021-09-28T16:13:15.934963Z"
    }
   },
   "outputs": [
    {
     "data": {
      "text/plain": [
       "area_type       0\n",
       "availability    0\n",
       "location        0\n",
       "total_sqft      0\n",
       "bath            0\n",
       "balcony         0\n",
       "price           0\n",
       "badrooms        0\n",
       "dtype: int64"
      ]
     },
     "execution_count": 26,
     "metadata": {},
     "output_type": "execute_result"
    }
   ],
   "source": [
    "# the rest we will drop it since we have a quite large dataset\n",
    "df2.dropna(inplace=True)\n",
    "df2.isnull().sum()"
   ]
  },
  {
   "cell_type": "markdown",
   "metadata": {},
   "source": [
    "<h5>for the null values here we replace it with the mean but we can also create a separated model to predict the null values it will take much more time and comutation bu will give a better representation for the null values. if the null value if categorical we can even use k-means for clustering and giving categories to the null values</h5>"
   ]
  },
  {
   "cell_type": "markdown",
   "metadata": {},
   "source": [
    "<h1>2-now lets remouve the outliers</h1>"
   ]
  },
  {
   "cell_type": "code",
   "execution_count": 27,
   "metadata": {
    "execution": {
     "iopub.execute_input": "2021-09-28T16:15:51.233788Z",
     "iopub.status.busy": "2021-09-28T16:15:51.233477Z",
     "iopub.status.idle": "2021-09-28T16:15:51.257318Z",
     "shell.execute_reply": "2021-09-28T16:15:51.256426Z",
     "shell.execute_reply.started": "2021-09-28T16:15:51.233758Z"
    }
   },
   "outputs": [
    {
     "data": {
      "text/html": [
       "<div>\n",
       "<style scoped>\n",
       "    .dataframe tbody tr th:only-of-type {\n",
       "        vertical-align: middle;\n",
       "    }\n",
       "\n",
       "    .dataframe tbody tr th {\n",
       "        vertical-align: top;\n",
       "    }\n",
       "\n",
       "    .dataframe thead th {\n",
       "        text-align: right;\n",
       "    }\n",
       "</style>\n",
       "<table border=\"1\" class=\"dataframe\">\n",
       "  <thead>\n",
       "    <tr style=\"text-align: right;\">\n",
       "      <th></th>\n",
       "      <th>area_type</th>\n",
       "      <th>availability</th>\n",
       "      <th>location</th>\n",
       "      <th>total_sqft</th>\n",
       "      <th>bath</th>\n",
       "      <th>balcony</th>\n",
       "      <th>price</th>\n",
       "      <th>badrooms</th>\n",
       "      <th>price_sqft</th>\n",
       "    </tr>\n",
       "  </thead>\n",
       "  <tbody>\n",
       "    <tr>\n",
       "      <th>1643</th>\n",
       "      <td>Super built-up  Area</td>\n",
       "      <td>18-May</td>\n",
       "      <td>Talaghattapura</td>\n",
       "      <td>2038.5</td>\n",
       "      <td>3.0</td>\n",
       "      <td>0.0</td>\n",
       "      <td>120.00</td>\n",
       "      <td>3.0</td>\n",
       "      <td>5886.681383</td>\n",
       "    </tr>\n",
       "    <tr>\n",
       "      <th>8373</th>\n",
       "      <td>Super built-up  Area</td>\n",
       "      <td>Ready To Move</td>\n",
       "      <td>Sarjapur</td>\n",
       "      <td>1032.0</td>\n",
       "      <td>2.0</td>\n",
       "      <td>1.0</td>\n",
       "      <td>42.00</td>\n",
       "      <td>2.0</td>\n",
       "      <td>4069.767442</td>\n",
       "    </tr>\n",
       "    <tr>\n",
       "      <th>12143</th>\n",
       "      <td>Super built-up  Area</td>\n",
       "      <td>19-Apr</td>\n",
       "      <td>Whitefield</td>\n",
       "      <td>1063.0</td>\n",
       "      <td>2.0</td>\n",
       "      <td>1.0</td>\n",
       "      <td>42.52</td>\n",
       "      <td>2.0</td>\n",
       "      <td>4000.000000</td>\n",
       "    </tr>\n",
       "    <tr>\n",
       "      <th>1079</th>\n",
       "      <td>Super built-up  Area</td>\n",
       "      <td>20-Dec</td>\n",
       "      <td>Old Madras Road</td>\n",
       "      <td>1350.0</td>\n",
       "      <td>3.0</td>\n",
       "      <td>0.0</td>\n",
       "      <td>54.54</td>\n",
       "      <td>3.0</td>\n",
       "      <td>4040.000000</td>\n",
       "    </tr>\n",
       "    <tr>\n",
       "      <th>10745</th>\n",
       "      <td>Super built-up  Area</td>\n",
       "      <td>Ready To Move</td>\n",
       "      <td>Devarabeesana Halli</td>\n",
       "      <td>1296.0</td>\n",
       "      <td>2.0</td>\n",
       "      <td>2.0</td>\n",
       "      <td>70.00</td>\n",
       "      <td>2.0</td>\n",
       "      <td>5401.234568</td>\n",
       "    </tr>\n",
       "  </tbody>\n",
       "</table>\n",
       "</div>"
      ],
      "text/plain": [
       "                  area_type   availability              location  total_sqft  \\\n",
       "1643   Super built-up  Area         18-May        Talaghattapura      2038.5   \n",
       "8373   Super built-up  Area  Ready To Move              Sarjapur      1032.0   \n",
       "12143  Super built-up  Area         19-Apr            Whitefield      1063.0   \n",
       "1079   Super built-up  Area         20-Dec       Old Madras Road      1350.0   \n",
       "10745  Super built-up  Area  Ready To Move   Devarabeesana Halli      1296.0   \n",
       "\n",
       "       bath  balcony   price  badrooms   price_sqft  \n",
       "1643    3.0      0.0  120.00       3.0  5886.681383  \n",
       "8373    2.0      1.0   42.00       2.0  4069.767442  \n",
       "12143   2.0      1.0   42.52       2.0  4000.000000  \n",
       "1079    3.0      0.0   54.54       3.0  4040.000000  \n",
       "10745   2.0      2.0   70.00       2.0  5401.234568  "
      ]
     },
     "execution_count": 27,
     "metadata": {},
     "output_type": "execute_result"
    }
   ],
   "source": [
    "# first lets add the price per sqft\n",
    "df2[\"price_sqft\"] = df2[\"price\"] * 100000 / df2[\"total_sqft\"]\n",
    "df2.sample(5)"
   ]
  },
  {
   "cell_type": "code",
   "execution_count": 28,
   "metadata": {
    "execution": {
     "iopub.execute_input": "2021-09-28T16:16:04.573776Z",
     "iopub.status.busy": "2021-09-28T16:16:04.573281Z",
     "iopub.status.idle": "2021-09-28T16:16:04.577731Z",
     "shell.execute_reply": "2021-09-28T16:16:04.576927Z",
     "shell.execute_reply.started": "2021-09-28T16:16:04.573739Z"
    }
   },
   "outputs": [],
   "source": [
    "# for this we can use the mean and std if it is a normal distribution but here we will use percentile to remouve outliers\n",
    "# expl on std :\n",
    "# upper_limit = df.x.mean() + 3*df.height.std()\n",
    "# lower_limit = df.height.mean() -3*df.height.std()\n",
    "# in this way we will get around 99.7 of the data only the outlayers will be remouved"
   ]
  },
  {
   "cell_type": "code",
   "execution_count": 29,
   "metadata": {
    "execution": {
     "iopub.execute_input": "2021-09-28T16:16:35.713421Z",
     "iopub.status.busy": "2021-09-28T16:16:35.713155Z",
     "iopub.status.idle": "2021-09-28T16:16:35.721749Z",
     "shell.execute_reply": "2021-09-28T16:16:35.720930Z",
     "shell.execute_reply.started": "2021-09-28T16:16:35.713395Z"
    }
   },
   "outputs": [
    {
     "data": {
      "text/plain": [
       "(3112.1495327102803, 15749.58479874951)"
      ]
     },
     "execution_count": 29,
     "metadata": {},
     "output_type": "execute_result"
    }
   ],
   "source": [
    "# for the percentile we use it like this\n",
    "min_thresold, max_thresold = df2.price_sqft.quantile([0.05, 0.95])\n",
    "min_thresold, max_thresold\n",
    "# here we cant decide if it is good or note we need an expert in the houses price"
   ]
  },
  {
   "cell_type": "code",
   "execution_count": 30,
   "metadata": {
    "execution": {
     "iopub.execute_input": "2021-09-28T16:17:15.133746Z",
     "iopub.status.busy": "2021-09-28T16:17:15.133302Z",
     "iopub.status.idle": "2021-09-28T16:17:15.160237Z",
     "shell.execute_reply": "2021-09-28T16:17:15.159319Z",
     "shell.execute_reply.started": "2021-09-28T16:17:15.133699Z"
    }
   },
   "outputs": [
    {
     "data": {
      "text/html": [
       "<div>\n",
       "<style scoped>\n",
       "    .dataframe tbody tr th:only-of-type {\n",
       "        vertical-align: middle;\n",
       "    }\n",
       "\n",
       "    .dataframe tbody tr th {\n",
       "        vertical-align: top;\n",
       "    }\n",
       "\n",
       "    .dataframe thead th {\n",
       "        text-align: right;\n",
       "    }\n",
       "</style>\n",
       "<table border=\"1\" class=\"dataframe\">\n",
       "  <thead>\n",
       "    <tr style=\"text-align: right;\">\n",
       "      <th></th>\n",
       "      <th>area_type</th>\n",
       "      <th>availability</th>\n",
       "      <th>location</th>\n",
       "      <th>total_sqft</th>\n",
       "      <th>bath</th>\n",
       "      <th>balcony</th>\n",
       "      <th>price</th>\n",
       "      <th>badrooms</th>\n",
       "      <th>price_sqft</th>\n",
       "    </tr>\n",
       "  </thead>\n",
       "  <tbody>\n",
       "    <tr>\n",
       "      <th>7</th>\n",
       "      <td>Super built-up  Area</td>\n",
       "      <td>Ready To Move</td>\n",
       "      <td>Rajaji Nagar</td>\n",
       "      <td>3300.0</td>\n",
       "      <td>4.0</td>\n",
       "      <td>1.0</td>\n",
       "      <td>600.0</td>\n",
       "      <td>4.0</td>\n",
       "      <td>18181.818182</td>\n",
       "    </tr>\n",
       "    <tr>\n",
       "      <th>9</th>\n",
       "      <td>Plot  Area</td>\n",
       "      <td>Ready To Move</td>\n",
       "      <td>Gandhi Bazar</td>\n",
       "      <td>1020.0</td>\n",
       "      <td>6.0</td>\n",
       "      <td>2.0</td>\n",
       "      <td>370.0</td>\n",
       "      <td>6.0</td>\n",
       "      <td>36274.509804</td>\n",
       "    </tr>\n",
       "    <tr>\n",
       "      <th>20</th>\n",
       "      <td>Built-up  Area</td>\n",
       "      <td>Ready To Move</td>\n",
       "      <td>Kengeri</td>\n",
       "      <td>600.0</td>\n",
       "      <td>1.0</td>\n",
       "      <td>1.0</td>\n",
       "      <td>15.0</td>\n",
       "      <td>1.0</td>\n",
       "      <td>2500.000000</td>\n",
       "    </tr>\n",
       "    <tr>\n",
       "      <th>41</th>\n",
       "      <td>Super built-up  Area</td>\n",
       "      <td>19-Dec</td>\n",
       "      <td>Sarjapur  Road</td>\n",
       "      <td>1254.0</td>\n",
       "      <td>3.0</td>\n",
       "      <td>2.0</td>\n",
       "      <td>38.0</td>\n",
       "      <td>3.0</td>\n",
       "      <td>3030.303030</td>\n",
       "    </tr>\n",
       "    <tr>\n",
       "      <th>45</th>\n",
       "      <td>Plot  Area</td>\n",
       "      <td>Ready To Move</td>\n",
       "      <td>HSR Layout</td>\n",
       "      <td>600.0</td>\n",
       "      <td>9.0</td>\n",
       "      <td>2.0</td>\n",
       "      <td>200.0</td>\n",
       "      <td>8.0</td>\n",
       "      <td>33333.333333</td>\n",
       "    </tr>\n",
       "    <tr>\n",
       "      <th>...</th>\n",
       "      <td>...</td>\n",
       "      <td>...</td>\n",
       "      <td>...</td>\n",
       "      <td>...</td>\n",
       "      <td>...</td>\n",
       "      <td>...</td>\n",
       "      <td>...</td>\n",
       "      <td>...</td>\n",
       "      <td>...</td>\n",
       "    </tr>\n",
       "    <tr>\n",
       "      <th>13275</th>\n",
       "      <td>Plot  Area</td>\n",
       "      <td>Ready To Move</td>\n",
       "      <td>Kothannur</td>\n",
       "      <td>1600.0</td>\n",
       "      <td>4.0</td>\n",
       "      <td>2.0</td>\n",
       "      <td>45.0</td>\n",
       "      <td>4.0</td>\n",
       "      <td>2812.500000</td>\n",
       "    </tr>\n",
       "    <tr>\n",
       "      <th>13305</th>\n",
       "      <td>Carpet  Area</td>\n",
       "      <td>Ready To Move</td>\n",
       "      <td>Hulimavu</td>\n",
       "      <td>500.0</td>\n",
       "      <td>1.0</td>\n",
       "      <td>3.0</td>\n",
       "      <td>220.0</td>\n",
       "      <td>1.0</td>\n",
       "      <td>44000.000000</td>\n",
       "    </tr>\n",
       "    <tr>\n",
       "      <th>13306</th>\n",
       "      <td>Plot  Area</td>\n",
       "      <td>Ready To Move</td>\n",
       "      <td>Rajarajeshwari Nagara</td>\n",
       "      <td>1200.0</td>\n",
       "      <td>5.0</td>\n",
       "      <td>1.0</td>\n",
       "      <td>325.0</td>\n",
       "      <td>4.0</td>\n",
       "      <td>27083.333333</td>\n",
       "    </tr>\n",
       "    <tr>\n",
       "      <th>13311</th>\n",
       "      <td>Plot  Area</td>\n",
       "      <td>Ready To Move</td>\n",
       "      <td>Ramamurthy Nagar</td>\n",
       "      <td>1500.0</td>\n",
       "      <td>9.0</td>\n",
       "      <td>2.0</td>\n",
       "      <td>250.0</td>\n",
       "      <td>7.0</td>\n",
       "      <td>16666.666667</td>\n",
       "    </tr>\n",
       "    <tr>\n",
       "      <th>13319</th>\n",
       "      <td>Super built-up  Area</td>\n",
       "      <td>Ready To Move</td>\n",
       "      <td>Doddathoguru</td>\n",
       "      <td>550.0</td>\n",
       "      <td>1.0</td>\n",
       "      <td>1.0</td>\n",
       "      <td>17.0</td>\n",
       "      <td>1.0</td>\n",
       "      <td>3090.909091</td>\n",
       "    </tr>\n",
       "  </tbody>\n",
       "</table>\n",
       "<p>1326 rows × 9 columns</p>\n",
       "</div>"
      ],
      "text/plain": [
       "                  area_type   availability               location  total_sqft  \\\n",
       "7      Super built-up  Area  Ready To Move           Rajaji Nagar      3300.0   \n",
       "9                Plot  Area  Ready To Move           Gandhi Bazar      1020.0   \n",
       "20           Built-up  Area  Ready To Move                Kengeri       600.0   \n",
       "41     Super built-up  Area         19-Dec         Sarjapur  Road      1254.0   \n",
       "45               Plot  Area  Ready To Move             HSR Layout       600.0   \n",
       "...                     ...            ...                    ...         ...   \n",
       "13275            Plot  Area  Ready To Move              Kothannur      1600.0   \n",
       "13305          Carpet  Area  Ready To Move               Hulimavu       500.0   \n",
       "13306            Plot  Area  Ready To Move  Rajarajeshwari Nagara      1200.0   \n",
       "13311            Plot  Area  Ready To Move       Ramamurthy Nagar      1500.0   \n",
       "13319  Super built-up  Area  Ready To Move           Doddathoguru       550.0   \n",
       "\n",
       "       bath  balcony  price  badrooms    price_sqft  \n",
       "7       4.0      1.0  600.0       4.0  18181.818182  \n",
       "9       6.0      2.0  370.0       6.0  36274.509804  \n",
       "20      1.0      1.0   15.0       1.0   2500.000000  \n",
       "41      3.0      2.0   38.0       3.0   3030.303030  \n",
       "45      9.0      2.0  200.0       8.0  33333.333333  \n",
       "...     ...      ...    ...       ...           ...  \n",
       "13275   4.0      2.0   45.0       4.0   2812.500000  \n",
       "13305   1.0      3.0  220.0       1.0  44000.000000  \n",
       "13306   5.0      1.0  325.0       4.0  27083.333333  \n",
       "13311   9.0      2.0  250.0       7.0  16666.666667  \n",
       "13319   1.0      1.0   17.0       1.0   3090.909091  \n",
       "\n",
       "[1326 rows x 9 columns]"
      ]
     },
     "execution_count": 30,
     "metadata": {},
     "output_type": "execute_result"
    }
   ],
   "source": [
    "# lets see our outliers\n",
    "df2[(df2.price_sqft>max_thresold) | (df2.price_sqft<min_thresold)]"
   ]
  },
  {
   "cell_type": "code",
   "execution_count": 31,
   "metadata": {
    "execution": {
     "iopub.execute_input": "2021-09-28T16:17:30.732858Z",
     "iopub.status.busy": "2021-09-28T16:17:30.732559Z",
     "iopub.status.idle": "2021-09-28T16:17:30.755929Z",
     "shell.execute_reply": "2021-09-28T16:17:30.755118Z",
     "shell.execute_reply.started": "2021-09-28T16:17:30.732825Z"
    }
   },
   "outputs": [
    {
     "data": {
      "text/html": [
       "<div>\n",
       "<style scoped>\n",
       "    .dataframe tbody tr th:only-of-type {\n",
       "        vertical-align: middle;\n",
       "    }\n",
       "\n",
       "    .dataframe tbody tr th {\n",
       "        vertical-align: top;\n",
       "    }\n",
       "\n",
       "    .dataframe thead th {\n",
       "        text-align: right;\n",
       "    }\n",
       "</style>\n",
       "<table border=\"1\" class=\"dataframe\">\n",
       "  <thead>\n",
       "    <tr style=\"text-align: right;\">\n",
       "      <th></th>\n",
       "      <th>area_type</th>\n",
       "      <th>availability</th>\n",
       "      <th>location</th>\n",
       "      <th>total_sqft</th>\n",
       "      <th>bath</th>\n",
       "      <th>balcony</th>\n",
       "      <th>price</th>\n",
       "      <th>badrooms</th>\n",
       "      <th>price_sqft</th>\n",
       "    </tr>\n",
       "  </thead>\n",
       "  <tbody>\n",
       "    <tr>\n",
       "      <th>5433</th>\n",
       "      <td>Super built-up  Area</td>\n",
       "      <td>Ready To Move</td>\n",
       "      <td>Raja Rajeshwari Nagar</td>\n",
       "      <td>1580.0</td>\n",
       "      <td>3.0</td>\n",
       "      <td>3.0</td>\n",
       "      <td>53.56</td>\n",
       "      <td>3.0</td>\n",
       "      <td>3389.873418</td>\n",
       "    </tr>\n",
       "    <tr>\n",
       "      <th>8004</th>\n",
       "      <td>Super built-up  Area</td>\n",
       "      <td>Ready To Move</td>\n",
       "      <td>Sarjapur  Road</td>\n",
       "      <td>7800.0</td>\n",
       "      <td>6.0</td>\n",
       "      <td>1.0</td>\n",
       "      <td>385.00</td>\n",
       "      <td>5.0</td>\n",
       "      <td>4935.897436</td>\n",
       "    </tr>\n",
       "    <tr>\n",
       "      <th>5544</th>\n",
       "      <td>Super built-up  Area</td>\n",
       "      <td>21-Dec</td>\n",
       "      <td>Kanakpura Road</td>\n",
       "      <td>525.0</td>\n",
       "      <td>1.0</td>\n",
       "      <td>1.0</td>\n",
       "      <td>30.00</td>\n",
       "      <td>1.0</td>\n",
       "      <td>5714.285714</td>\n",
       "    </tr>\n",
       "    <tr>\n",
       "      <th>12832</th>\n",
       "      <td>Plot  Area</td>\n",
       "      <td>18-Dec</td>\n",
       "      <td>Whitefield</td>\n",
       "      <td>1200.0</td>\n",
       "      <td>3.0</td>\n",
       "      <td>2.0</td>\n",
       "      <td>67.75</td>\n",
       "      <td>3.0</td>\n",
       "      <td>5645.833333</td>\n",
       "    </tr>\n",
       "    <tr>\n",
       "      <th>5670</th>\n",
       "      <td>Plot  Area</td>\n",
       "      <td>Ready To Move</td>\n",
       "      <td>Singapura Village</td>\n",
       "      <td>2230.0</td>\n",
       "      <td>4.0</td>\n",
       "      <td>1.0</td>\n",
       "      <td>130.00</td>\n",
       "      <td>4.0</td>\n",
       "      <td>5829.596413</td>\n",
       "    </tr>\n",
       "    <tr>\n",
       "      <th>9679</th>\n",
       "      <td>Super built-up  Area</td>\n",
       "      <td>Ready To Move</td>\n",
       "      <td>Ananth Nagar</td>\n",
       "      <td>1319.0</td>\n",
       "      <td>3.0</td>\n",
       "      <td>1.0</td>\n",
       "      <td>37.75</td>\n",
       "      <td>3.0</td>\n",
       "      <td>2862.016679</td>\n",
       "    </tr>\n",
       "    <tr>\n",
       "      <th>10044</th>\n",
       "      <td>Super built-up  Area</td>\n",
       "      <td>Ready To Move</td>\n",
       "      <td>Sarjapur</td>\n",
       "      <td>1175.0</td>\n",
       "      <td>2.0</td>\n",
       "      <td>1.0</td>\n",
       "      <td>41.68</td>\n",
       "      <td>2.0</td>\n",
       "      <td>3547.234043</td>\n",
       "    </tr>\n",
       "    <tr>\n",
       "      <th>2960</th>\n",
       "      <td>Super built-up  Area</td>\n",
       "      <td>Ready To Move</td>\n",
       "      <td>Hebbal</td>\n",
       "      <td>1420.0</td>\n",
       "      <td>2.0</td>\n",
       "      <td>1.0</td>\n",
       "      <td>99.39</td>\n",
       "      <td>2.0</td>\n",
       "      <td>6999.295775</td>\n",
       "    </tr>\n",
       "    <tr>\n",
       "      <th>5139</th>\n",
       "      <td>Built-up  Area</td>\n",
       "      <td>Ready To Move</td>\n",
       "      <td>Devarachikkanahalli</td>\n",
       "      <td>615.0</td>\n",
       "      <td>1.0</td>\n",
       "      <td>1.0</td>\n",
       "      <td>24.00</td>\n",
       "      <td>1.0</td>\n",
       "      <td>3902.439024</td>\n",
       "    </tr>\n",
       "    <tr>\n",
       "      <th>8513</th>\n",
       "      <td>Super built-up  Area</td>\n",
       "      <td>Ready To Move</td>\n",
       "      <td>Bethel Nagar</td>\n",
       "      <td>560.0</td>\n",
       "      <td>1.0</td>\n",
       "      <td>0.0</td>\n",
       "      <td>19.00</td>\n",
       "      <td>1.0</td>\n",
       "      <td>3392.857143</td>\n",
       "    </tr>\n",
       "  </tbody>\n",
       "</table>\n",
       "</div>"
      ],
      "text/plain": [
       "                  area_type   availability               location  total_sqft  \\\n",
       "5433   Super built-up  Area  Ready To Move  Raja Rajeshwari Nagar      1580.0   \n",
       "8004   Super built-up  Area  Ready To Move         Sarjapur  Road      7800.0   \n",
       "5544   Super built-up  Area         21-Dec         Kanakpura Road       525.0   \n",
       "12832            Plot  Area         18-Dec             Whitefield      1200.0   \n",
       "5670             Plot  Area  Ready To Move      Singapura Village      2230.0   \n",
       "9679   Super built-up  Area  Ready To Move           Ananth Nagar      1319.0   \n",
       "10044  Super built-up  Area  Ready To Move               Sarjapur      1175.0   \n",
       "2960   Super built-up  Area  Ready To Move                 Hebbal      1420.0   \n",
       "5139         Built-up  Area  Ready To Move    Devarachikkanahalli       615.0   \n",
       "8513   Super built-up  Area  Ready To Move           Bethel Nagar       560.0   \n",
       "\n",
       "       bath  balcony   price  badrooms   price_sqft  \n",
       "5433    3.0      3.0   53.56       3.0  3389.873418  \n",
       "8004    6.0      1.0  385.00       5.0  4935.897436  \n",
       "5544    1.0      1.0   30.00       1.0  5714.285714  \n",
       "12832   3.0      2.0   67.75       3.0  5645.833333  \n",
       "5670    4.0      1.0  130.00       4.0  5829.596413  \n",
       "9679    3.0      1.0   37.75       3.0  2862.016679  \n",
       "10044   2.0      1.0   41.68       2.0  3547.234043  \n",
       "2960    2.0      1.0   99.39       2.0  6999.295775  \n",
       "5139    1.0      1.0   24.00       1.0  3902.439024  \n",
       "8513    1.0      0.0   19.00       1.0  3392.857143  "
      ]
     },
     "execution_count": 31,
     "metadata": {},
     "output_type": "execute_result"
    }
   ],
   "source": [
    "df3 = df2[(df2.price_sqft<max_thresold) | (df2.price_sqft>min_thresold)]\n",
    "df3.sample(10)"
   ]
  },
  {
   "cell_type": "code",
   "execution_count": 32,
   "metadata": {
    "execution": {
     "iopub.execute_input": "2021-09-28T16:18:50.493182Z",
     "iopub.status.busy": "2021-09-28T16:18:50.492888Z",
     "iopub.status.idle": "2021-09-28T16:18:50.513813Z",
     "shell.execute_reply": "2021-09-28T16:18:50.513038Z",
     "shell.execute_reply.started": "2021-09-28T16:18:50.493154Z"
    }
   },
   "outputs": [
    {
     "data": {
      "text/html": [
       "<div>\n",
       "<style scoped>\n",
       "    .dataframe tbody tr th:only-of-type {\n",
       "        vertical-align: middle;\n",
       "    }\n",
       "\n",
       "    .dataframe tbody tr th {\n",
       "        vertical-align: top;\n",
       "    }\n",
       "\n",
       "    .dataframe thead th {\n",
       "        text-align: right;\n",
       "    }\n",
       "</style>\n",
       "<table border=\"1\" class=\"dataframe\">\n",
       "  <thead>\n",
       "    <tr style=\"text-align: right;\">\n",
       "      <th></th>\n",
       "      <th>area_type</th>\n",
       "      <th>total_sqft</th>\n",
       "      <th>bath</th>\n",
       "      <th>balcony</th>\n",
       "      <th>price</th>\n",
       "      <th>badrooms</th>\n",
       "      <th>price_sqft</th>\n",
       "    </tr>\n",
       "  </thead>\n",
       "  <tbody>\n",
       "    <tr>\n",
       "      <th>8350</th>\n",
       "      <td>Super built-up  Area</td>\n",
       "      <td>1000.0</td>\n",
       "      <td>2.0</td>\n",
       "      <td>1.0</td>\n",
       "      <td>29.7</td>\n",
       "      <td>2.0</td>\n",
       "      <td>2970.000000</td>\n",
       "    </tr>\n",
       "    <tr>\n",
       "      <th>4979</th>\n",
       "      <td>Super built-up  Area</td>\n",
       "      <td>1016.0</td>\n",
       "      <td>2.0</td>\n",
       "      <td>2.0</td>\n",
       "      <td>40.0</td>\n",
       "      <td>2.0</td>\n",
       "      <td>3937.007874</td>\n",
       "    </tr>\n",
       "    <tr>\n",
       "      <th>5381</th>\n",
       "      <td>Super built-up  Area</td>\n",
       "      <td>1020.0</td>\n",
       "      <td>2.0</td>\n",
       "      <td>1.0</td>\n",
       "      <td>52.0</td>\n",
       "      <td>2.0</td>\n",
       "      <td>5098.039216</td>\n",
       "    </tr>\n",
       "    <tr>\n",
       "      <th>10527</th>\n",
       "      <td>Super built-up  Area</td>\n",
       "      <td>500.0</td>\n",
       "      <td>1.0</td>\n",
       "      <td>1.0</td>\n",
       "      <td>14.0</td>\n",
       "      <td>1.0</td>\n",
       "      <td>2800.000000</td>\n",
       "    </tr>\n",
       "    <tr>\n",
       "      <th>1432</th>\n",
       "      <td>Super built-up  Area</td>\n",
       "      <td>1015.0</td>\n",
       "      <td>2.0</td>\n",
       "      <td>1.0</td>\n",
       "      <td>45.0</td>\n",
       "      <td>2.0</td>\n",
       "      <td>4433.497537</td>\n",
       "    </tr>\n",
       "  </tbody>\n",
       "</table>\n",
       "</div>"
      ],
      "text/plain": [
       "                  area_type  total_sqft  bath  balcony  price  badrooms  \\\n",
       "8350   Super built-up  Area      1000.0   2.0      1.0   29.7       2.0   \n",
       "4979   Super built-up  Area      1016.0   2.0      2.0   40.0       2.0   \n",
       "5381   Super built-up  Area      1020.0   2.0      1.0   52.0       2.0   \n",
       "10527  Super built-up  Area       500.0   1.0      1.0   14.0       1.0   \n",
       "1432   Super built-up  Area      1015.0   2.0      1.0   45.0       2.0   \n",
       "\n",
       "        price_sqft  \n",
       "8350   2970.000000  \n",
       "4979   3937.007874  \n",
       "5381   5098.039216  \n",
       "10527  2800.000000  \n",
       "1432   4433.497537  "
      ]
     },
     "execution_count": 32,
     "metadata": {},
     "output_type": "execute_result"
    }
   ],
   "source": [
    "# lets remove the availibility and location since i am not using it\n",
    "df3.drop(\"availability\",inplace=True,axis=1)\n",
    "df3.drop(\"location\",inplace=True,axis=1)\n",
    "\n",
    "df3.sample(5)"
   ]
  },
  {
   "cell_type": "code",
   "execution_count": 33,
   "metadata": {
    "execution": {
     "iopub.execute_input": "2021-09-28T16:21:18.839293Z",
     "iopub.status.busy": "2021-09-28T16:21:18.838828Z",
     "iopub.status.idle": "2021-09-28T16:21:18.869160Z",
     "shell.execute_reply": "2021-09-28T16:21:18.868207Z",
     "shell.execute_reply.started": "2021-09-28T16:21:18.839243Z"
    }
   },
   "outputs": [
    {
     "data": {
      "text/html": [
       "<div>\n",
       "<style scoped>\n",
       "    .dataframe tbody tr th:only-of-type {\n",
       "        vertical-align: middle;\n",
       "    }\n",
       "\n",
       "    .dataframe tbody tr th {\n",
       "        vertical-align: top;\n",
       "    }\n",
       "\n",
       "    .dataframe thead th {\n",
       "        text-align: right;\n",
       "    }\n",
       "</style>\n",
       "<table border=\"1\" class=\"dataframe\">\n",
       "  <thead>\n",
       "    <tr style=\"text-align: right;\">\n",
       "      <th></th>\n",
       "      <th>area_type</th>\n",
       "      <th>total_sqft</th>\n",
       "      <th>bath</th>\n",
       "      <th>balcony</th>\n",
       "      <th>price</th>\n",
       "      <th>badrooms</th>\n",
       "      <th>price_sqft</th>\n",
       "    </tr>\n",
       "  </thead>\n",
       "  <tbody>\n",
       "    <tr>\n",
       "      <th>9</th>\n",
       "      <td>Plot  Area</td>\n",
       "      <td>1020.0</td>\n",
       "      <td>6.0</td>\n",
       "      <td>2.0</td>\n",
       "      <td>370.0</td>\n",
       "      <td>6.0</td>\n",
       "      <td>36274.509804</td>\n",
       "    </tr>\n",
       "    <tr>\n",
       "      <th>45</th>\n",
       "      <td>Plot  Area</td>\n",
       "      <td>600.0</td>\n",
       "      <td>9.0</td>\n",
       "      <td>2.0</td>\n",
       "      <td>200.0</td>\n",
       "      <td>8.0</td>\n",
       "      <td>33333.333333</td>\n",
       "    </tr>\n",
       "    <tr>\n",
       "      <th>58</th>\n",
       "      <td>Plot  Area</td>\n",
       "      <td>1407.0</td>\n",
       "      <td>4.0</td>\n",
       "      <td>1.0</td>\n",
       "      <td>150.0</td>\n",
       "      <td>6.0</td>\n",
       "      <td>10660.980810</td>\n",
       "    </tr>\n",
       "    <tr>\n",
       "      <th>68</th>\n",
       "      <td>Plot  Area</td>\n",
       "      <td>1350.0</td>\n",
       "      <td>7.0</td>\n",
       "      <td>0.0</td>\n",
       "      <td>85.0</td>\n",
       "      <td>8.0</td>\n",
       "      <td>6296.296296</td>\n",
       "    </tr>\n",
       "    <tr>\n",
       "      <th>70</th>\n",
       "      <td>Plot  Area</td>\n",
       "      <td>500.0</td>\n",
       "      <td>3.0</td>\n",
       "      <td>2.0</td>\n",
       "      <td>100.0</td>\n",
       "      <td>3.0</td>\n",
       "      <td>20000.000000</td>\n",
       "    </tr>\n",
       "    <tr>\n",
       "      <th>...</th>\n",
       "      <td>...</td>\n",
       "      <td>...</td>\n",
       "      <td>...</td>\n",
       "      <td>...</td>\n",
       "      <td>...</td>\n",
       "      <td>...</td>\n",
       "      <td>...</td>\n",
       "    </tr>\n",
       "    <tr>\n",
       "      <th>13277</th>\n",
       "      <td>Plot  Area</td>\n",
       "      <td>1400.0</td>\n",
       "      <td>7.0</td>\n",
       "      <td>2.0</td>\n",
       "      <td>218.0</td>\n",
       "      <td>7.0</td>\n",
       "      <td>15571.428571</td>\n",
       "    </tr>\n",
       "    <tr>\n",
       "      <th>13279</th>\n",
       "      <td>Plot  Area</td>\n",
       "      <td>1200.0</td>\n",
       "      <td>5.0</td>\n",
       "      <td>2.0</td>\n",
       "      <td>130.0</td>\n",
       "      <td>6.0</td>\n",
       "      <td>10833.333333</td>\n",
       "    </tr>\n",
       "    <tr>\n",
       "      <th>13281</th>\n",
       "      <td>Plot  Area</td>\n",
       "      <td>1375.0</td>\n",
       "      <td>5.0</td>\n",
       "      <td>1.0</td>\n",
       "      <td>125.0</td>\n",
       "      <td>5.0</td>\n",
       "      <td>9090.909091</td>\n",
       "    </tr>\n",
       "    <tr>\n",
       "      <th>13303</th>\n",
       "      <td>Plot  Area</td>\n",
       "      <td>774.0</td>\n",
       "      <td>5.0</td>\n",
       "      <td>3.0</td>\n",
       "      <td>70.0</td>\n",
       "      <td>5.0</td>\n",
       "      <td>9043.927649</td>\n",
       "    </tr>\n",
       "    <tr>\n",
       "      <th>13311</th>\n",
       "      <td>Plot  Area</td>\n",
       "      <td>1500.0</td>\n",
       "      <td>9.0</td>\n",
       "      <td>2.0</td>\n",
       "      <td>250.0</td>\n",
       "      <td>7.0</td>\n",
       "      <td>16666.666667</td>\n",
       "    </tr>\n",
       "  </tbody>\n",
       "</table>\n",
       "<p>790 rows × 7 columns</p>\n",
       "</div>"
      ],
      "text/plain": [
       "        area_type  total_sqft  bath  balcony  price  badrooms    price_sqft\n",
       "9      Plot  Area      1020.0   6.0      2.0  370.0       6.0  36274.509804\n",
       "45     Plot  Area       600.0   9.0      2.0  200.0       8.0  33333.333333\n",
       "58     Plot  Area      1407.0   4.0      1.0  150.0       6.0  10660.980810\n",
       "68     Plot  Area      1350.0   7.0      0.0   85.0       8.0   6296.296296\n",
       "70     Plot  Area       500.0   3.0      2.0  100.0       3.0  20000.000000\n",
       "...           ...         ...   ...      ...    ...       ...           ...\n",
       "13277  Plot  Area      1400.0   7.0      2.0  218.0       7.0  15571.428571\n",
       "13279  Plot  Area      1200.0   5.0      2.0  130.0       6.0  10833.333333\n",
       "13281  Plot  Area      1375.0   5.0      1.0  125.0       5.0   9090.909091\n",
       "13303  Plot  Area       774.0   5.0      3.0   70.0       5.0   9043.927649\n",
       "13311  Plot  Area      1500.0   9.0      2.0  250.0       7.0  16666.666667\n",
       "\n",
       "[790 rows x 7 columns]"
      ]
     },
     "execution_count": 33,
     "metadata": {},
     "output_type": "execute_result"
    }
   ],
   "source": [
    "# now we will remove the anomalies the houses which the number of rooms is not compatible with the sqft\n",
    "# 300 sqft means a bit more than 5 mitres x 5 mitres\n",
    "df3[df3.total_sqft / df3.badrooms < 300]"
   ]
  },
  {
   "cell_type": "code",
   "execution_count": 34,
   "metadata": {
    "execution": {
     "iopub.execute_input": "2021-09-28T16:21:36.458803Z",
     "iopub.status.busy": "2021-09-28T16:21:36.457942Z",
     "iopub.status.idle": "2021-09-28T16:21:36.466684Z",
     "shell.execute_reply": "2021-09-28T16:21:36.465835Z",
     "shell.execute_reply.started": "2021-09-28T16:21:36.458756Z"
    }
   },
   "outputs": [
    {
     "data": {
      "text/plain": [
       "(12456, 7)"
      ]
     },
     "execution_count": 34,
     "metadata": {},
     "output_type": "execute_result"
    }
   ],
   "source": [
    "df4 = df3[~(df3.total_sqft / df3.badrooms < 300)]\n",
    "df4.shape"
   ]
  },
  {
   "cell_type": "code",
   "execution_count": 35,
   "metadata": {
    "execution": {
     "iopub.execute_input": "2021-09-28T16:21:59.096844Z",
     "iopub.status.busy": "2021-09-28T16:21:59.096552Z",
     "iopub.status.idle": "2021-09-28T16:21:59.104275Z",
     "shell.execute_reply": "2021-09-28T16:21:59.103529Z",
     "shell.execute_reply.started": "2021-09-28T16:21:59.096814Z"
    }
   },
   "outputs": [
    {
     "data": {
      "text/plain": [
       "4"
      ]
     },
     "execution_count": 35,
     "metadata": {},
     "output_type": "execute_result"
    }
   ],
   "source": [
    "# now lets see the area_type \n",
    "len(df4.area_type.unique())"
   ]
  },
  {
   "cell_type": "code",
   "execution_count": 37,
   "metadata": {
    "execution": {
     "iopub.execute_input": "2021-09-28T16:22:43.530304Z",
     "iopub.status.busy": "2021-09-28T16:22:43.529851Z",
     "iopub.status.idle": "2021-09-28T16:22:43.547909Z",
     "shell.execute_reply": "2021-09-28T16:22:43.547328Z",
     "shell.execute_reply.started": "2021-09-28T16:22:43.530264Z"
    }
   },
   "outputs": [
    {
     "data": {
      "text/plain": [
       "area_type\n",
       "Super built-up  Area    8679\n",
       "Built-up  Area          2327\n",
       "Plot  Area              1368\n",
       "Carpet  Area              82\n",
       "Name: area_type, dtype: int64"
      ]
     },
     "execution_count": 37,
     "metadata": {},
     "output_type": "execute_result"
    }
   ],
   "source": [
    "df4.area_type = df4.area_type.apply(lambda x: x.strip())\n",
    "# remouving unused spaces in strings\n",
    "area_type_stats = df4.groupby(\"area_type\")[\"area_type\"].agg('count').sort_values(ascending=False)\n",
    "area_type_stats"
   ]
  },
  {
   "cell_type": "code",
   "execution_count": 38,
   "metadata": {
    "execution": {
     "iopub.execute_input": "2021-09-28T16:25:05.930372Z",
     "iopub.status.busy": "2021-09-28T16:25:05.930085Z",
     "iopub.status.idle": "2021-09-28T16:25:05.954988Z",
     "shell.execute_reply": "2021-09-28T16:25:05.954233Z",
     "shell.execute_reply.started": "2021-09-28T16:25:05.930347Z"
    }
   },
   "outputs": [
    {
     "data": {
      "text/html": [
       "<div>\n",
       "<style scoped>\n",
       "    .dataframe tbody tr th:only-of-type {\n",
       "        vertical-align: middle;\n",
       "    }\n",
       "\n",
       "    .dataframe tbody tr th {\n",
       "        vertical-align: top;\n",
       "    }\n",
       "\n",
       "    .dataframe thead th {\n",
       "        text-align: right;\n",
       "    }\n",
       "</style>\n",
       "<table border=\"1\" class=\"dataframe\">\n",
       "  <thead>\n",
       "    <tr style=\"text-align: right;\">\n",
       "      <th></th>\n",
       "      <th>total_sqft</th>\n",
       "      <th>bath</th>\n",
       "      <th>balcony</th>\n",
       "      <th>price</th>\n",
       "      <th>badrooms</th>\n",
       "      <th>price_sqft</th>\n",
       "      <th>Built-up  Area</th>\n",
       "      <th>Carpet  Area</th>\n",
       "      <th>Plot  Area</th>\n",
       "      <th>Super built-up  Area</th>\n",
       "    </tr>\n",
       "  </thead>\n",
       "  <tbody>\n",
       "    <tr>\n",
       "      <th>8297</th>\n",
       "      <td>1328.0</td>\n",
       "      <td>2.0</td>\n",
       "      <td>3.0</td>\n",
       "      <td>91.06</td>\n",
       "      <td>2.0</td>\n",
       "      <td>6856.927711</td>\n",
       "      <td>0</td>\n",
       "      <td>0</td>\n",
       "      <td>0</td>\n",
       "      <td>1</td>\n",
       "    </tr>\n",
       "    <tr>\n",
       "      <th>3556</th>\n",
       "      <td>1512.0</td>\n",
       "      <td>2.0</td>\n",
       "      <td>2.0</td>\n",
       "      <td>110.00</td>\n",
       "      <td>3.0</td>\n",
       "      <td>7275.132275</td>\n",
       "      <td>0</td>\n",
       "      <td>0</td>\n",
       "      <td>0</td>\n",
       "      <td>1</td>\n",
       "    </tr>\n",
       "    <tr>\n",
       "      <th>664</th>\n",
       "      <td>1075.0</td>\n",
       "      <td>2.0</td>\n",
       "      <td>1.0</td>\n",
       "      <td>45.00</td>\n",
       "      <td>3.0</td>\n",
       "      <td>4186.046512</td>\n",
       "      <td>0</td>\n",
       "      <td>0</td>\n",
       "      <td>0</td>\n",
       "      <td>1</td>\n",
       "    </tr>\n",
       "    <tr>\n",
       "      <th>665</th>\n",
       "      <td>1702.0</td>\n",
       "      <td>3.0</td>\n",
       "      <td>2.0</td>\n",
       "      <td>130.00</td>\n",
       "      <td>3.0</td>\n",
       "      <td>7638.072855</td>\n",
       "      <td>1</td>\n",
       "      <td>0</td>\n",
       "      <td>0</td>\n",
       "      <td>0</td>\n",
       "    </tr>\n",
       "    <tr>\n",
       "      <th>4401</th>\n",
       "      <td>1790.0</td>\n",
       "      <td>3.0</td>\n",
       "      <td>2.0</td>\n",
       "      <td>105.00</td>\n",
       "      <td>3.0</td>\n",
       "      <td>5865.921788</td>\n",
       "      <td>0</td>\n",
       "      <td>0</td>\n",
       "      <td>0</td>\n",
       "      <td>1</td>\n",
       "    </tr>\n",
       "  </tbody>\n",
       "</table>\n",
       "</div>"
      ],
      "text/plain": [
       "      total_sqft  bath  balcony   price  badrooms   price_sqft  \\\n",
       "8297      1328.0   2.0      3.0   91.06       2.0  6856.927711   \n",
       "3556      1512.0   2.0      2.0  110.00       3.0  7275.132275   \n",
       "664       1075.0   2.0      1.0   45.00       3.0  4186.046512   \n",
       "665       1702.0   3.0      2.0  130.00       3.0  7638.072855   \n",
       "4401      1790.0   3.0      2.0  105.00       3.0  5865.921788   \n",
       "\n",
       "      Built-up  Area  Carpet  Area  Plot  Area  Super built-up  Area  \n",
       "8297               0             0           0                     1  \n",
       "3556               0             0           0                     1  \n",
       "664                0             0           0                     1  \n",
       "665                1             0           0                     0  \n",
       "4401               0             0           0                     1  "
      ]
     },
     "execution_count": 38,
     "metadata": {},
     "output_type": "execute_result"
    }
   ],
   "source": [
    "# lets hot encode our area\n",
    "loc = pd.get_dummies(df4[\"area_type\"])\n",
    "df5 = pd.concat([df4,loc], axis=1)\n",
    "df5.drop(\"area_type\", inplace=True, axis=1)\n",
    "df5.sample(5)"
   ]
  },
  {
   "cell_type": "code",
   "execution_count": 39,
   "metadata": {
    "execution": {
     "iopub.execute_input": "2021-09-28T16:26:55.851188Z",
     "iopub.status.busy": "2021-09-28T16:26:55.850895Z",
     "iopub.status.idle": "2021-09-28T16:26:55.857172Z",
     "shell.execute_reply": "2021-09-28T16:26:55.856491Z",
     "shell.execute_reply.started": "2021-09-28T16:26:55.851159Z"
    }
   },
   "outputs": [],
   "source": [
    "# here since we are using get_dummies we will remouve one column  \"Carpet Area\" \n",
    "# because we can represent it with vector of all zeros \n",
    "df5.drop(\"Carpet  Area\",axis=\"columns\",inplace=True)"
   ]
  },
  {
   "cell_type": "code",
   "execution_count": 40,
   "metadata": {
    "execution": {
     "iopub.execute_input": "2021-09-28T16:27:09.080054Z",
     "iopub.status.busy": "2021-09-28T16:27:09.079175Z",
     "iopub.status.idle": "2021-09-28T16:27:09.084689Z",
     "shell.execute_reply": "2021-09-28T16:27:09.084114Z",
     "shell.execute_reply.started": "2021-09-28T16:27:09.079981Z"
    }
   },
   "outputs": [],
   "source": [
    "# we dont need the price per sqft anymore\n",
    "df5.drop(\"price_sqft\", inplace=True,axis=1)"
   ]
  },
  {
   "cell_type": "code",
   "execution_count": 41,
   "metadata": {
    "execution": {
     "iopub.execute_input": "2021-09-28T16:27:21.930284Z",
     "iopub.status.busy": "2021-09-28T16:27:21.929632Z",
     "iopub.status.idle": "2021-09-28T16:27:21.936997Z",
     "shell.execute_reply": "2021-09-28T16:27:21.936269Z",
     "shell.execute_reply.started": "2021-09-28T16:27:21.930246Z"
    }
   },
   "outputs": [
    {
     "data": {
      "text/plain": [
       "(12456, 8)"
      ]
     },
     "execution_count": 41,
     "metadata": {},
     "output_type": "execute_result"
    }
   ],
   "source": [
    "df5.shape"
   ]
  },
  {
   "cell_type": "markdown",
   "metadata": {},
   "source": [
    "<h3>since linear regression is not sensible to normalisation we will use the data as it is but for the ann we will need to normelize the data between 0 nad 1 </h3>"
   ]
  },
  {
   "cell_type": "code",
   "execution_count": 42,
   "metadata": {
    "execution": {
     "iopub.execute_input": "2021-09-28T16:30:48.810914Z",
     "iopub.status.busy": "2021-09-28T16:30:48.810583Z",
     "iopub.status.idle": "2021-09-28T16:30:48.817207Z",
     "shell.execute_reply": "2021-09-28T16:30:48.816017Z",
     "shell.execute_reply.started": "2021-09-28T16:30:48.810880Z"
    }
   },
   "outputs": [],
   "source": [
    "x = df5.drop(\"price\",axis=1)\n",
    "y = df5[\"price\"]"
   ]
  },
  {
   "cell_type": "code",
   "execution_count": 43,
   "metadata": {
    "execution": {
     "iopub.execute_input": "2021-09-28T16:32:54.510603Z",
     "iopub.status.busy": "2021-09-28T16:32:54.509956Z",
     "iopub.status.idle": "2021-09-28T16:32:54.673555Z",
     "shell.execute_reply": "2021-09-28T16:32:54.672495Z",
     "shell.execute_reply.started": "2021-09-28T16:32:54.510571Z"
    }
   },
   "outputs": [
    {
     "data": {
      "text/html": [
       "<div>\n",
       "<style scoped>\n",
       "    .dataframe tbody tr th:only-of-type {\n",
       "        vertical-align: middle;\n",
       "    }\n",
       "\n",
       "    .dataframe tbody tr th {\n",
       "        vertical-align: top;\n",
       "    }\n",
       "\n",
       "    .dataframe thead th {\n",
       "        text-align: right;\n",
       "    }\n",
       "</style>\n",
       "<table border=\"1\" class=\"dataframe\">\n",
       "  <thead>\n",
       "    <tr style=\"text-align: right;\">\n",
       "      <th></th>\n",
       "      <th>total_sqft</th>\n",
       "      <th>bath</th>\n",
       "      <th>balcony</th>\n",
       "      <th>price</th>\n",
       "      <th>badrooms</th>\n",
       "      <th>Built-up  Area</th>\n",
       "      <th>Plot  Area</th>\n",
       "      <th>Super built-up  Area</th>\n",
       "    </tr>\n",
       "  </thead>\n",
       "  <tbody>\n",
       "    <tr>\n",
       "      <th>1409</th>\n",
       "      <td>0.017606</td>\n",
       "      <td>2.0</td>\n",
       "      <td>0.0</td>\n",
       "      <td>0.011417</td>\n",
       "      <td>2.0</td>\n",
       "      <td>1</td>\n",
       "      <td>0</td>\n",
       "      <td>0</td>\n",
       "    </tr>\n",
       "    <tr>\n",
       "      <th>1351</th>\n",
       "      <td>0.015104</td>\n",
       "      <td>2.0</td>\n",
       "      <td>1.0</td>\n",
       "      <td>0.007519</td>\n",
       "      <td>2.0</td>\n",
       "      <td>0</td>\n",
       "      <td>0</td>\n",
       "      <td>1</td>\n",
       "    </tr>\n",
       "    <tr>\n",
       "      <th>6181</th>\n",
       "      <td>0.006446</td>\n",
       "      <td>1.0</td>\n",
       "      <td>0.0</td>\n",
       "      <td>0.004734</td>\n",
       "      <td>1.0</td>\n",
       "      <td>1</td>\n",
       "      <td>0</td>\n",
       "      <td>0</td>\n",
       "    </tr>\n",
       "    <tr>\n",
       "      <th>629</th>\n",
       "      <td>0.020684</td>\n",
       "      <td>3.0</td>\n",
       "      <td>2.0</td>\n",
       "      <td>0.016987</td>\n",
       "      <td>3.0</td>\n",
       "      <td>0</td>\n",
       "      <td>0</td>\n",
       "      <td>0</td>\n",
       "    </tr>\n",
       "    <tr>\n",
       "      <th>3044</th>\n",
       "      <td>0.023609</td>\n",
       "      <td>3.0</td>\n",
       "      <td>2.0</td>\n",
       "      <td>0.029518</td>\n",
       "      <td>3.0</td>\n",
       "      <td>0</td>\n",
       "      <td>0</td>\n",
       "      <td>1</td>\n",
       "    </tr>\n",
       "  </tbody>\n",
       "</table>\n",
       "</div>"
      ],
      "text/plain": [
       "      total_sqft  bath  balcony     price  badrooms  Built-up  Area  \\\n",
       "1409    0.017606   2.0      0.0  0.011417       2.0               1   \n",
       "1351    0.015104   2.0      1.0  0.007519       2.0               0   \n",
       "6181    0.006446   1.0      0.0  0.004734       1.0               1   \n",
       "629     0.020684   3.0      2.0  0.016987       3.0               0   \n",
       "3044    0.023609   3.0      2.0  0.029518       3.0               0   \n",
       "\n",
       "      Plot  Area  Super built-up  Area  \n",
       "1409           0                     0  \n",
       "1351           0                     1  \n",
       "6181           0                     0  \n",
       "629            0                     0  \n",
       "3044           0                     1  "
      ]
     },
     "execution_count": 43,
     "metadata": {},
     "output_type": "execute_result"
    }
   ],
   "source": [
    "df6 = df5.copy()\n",
    "# now lets normelize our total_sqft \n",
    "from sklearn.preprocessing import MinMaxScaler\n",
    "scaler=MinMaxScaler(feature_range=(0,1))\n",
    "data = np.array(df6[\"total_sqft\"]).reshape(df6.shape[0],1)\n",
    "data = scaler.fit_transform(data)\n",
    "df6[\"total_sqft\"] = data.reshape(df6.shape[0])\n",
    "# now lets normelize our price \n",
    "price_scaler=MinMaxScaler(feature_range=(0,1))\n",
    "data = np.array(df6[\"price\"]).reshape(df6.shape[0],1)\n",
    "data = price_scaler.fit_transform(data)\n",
    "df6[\"price\"] = data.reshape(df6.shape[0])\n",
    "df6.sample(5)"
   ]
  },
  {
   "cell_type": "code",
   "execution_count": 44,
   "metadata": {
    "execution": {
     "iopub.execute_input": "2021-09-28T16:33:33.971451Z",
     "iopub.status.busy": "2021-09-28T16:33:33.970955Z",
     "iopub.status.idle": "2021-09-28T16:33:33.978512Z",
     "shell.execute_reply": "2021-09-28T16:33:33.977700Z",
     "shell.execute_reply.started": "2021-09-28T16:33:33.971418Z"
    }
   },
   "outputs": [],
   "source": [
    "x_norm = df6.drop(\"price\",axis=1)\n",
    "y_norm = df6[\"price\"]"
   ]
  },
  {
   "cell_type": "markdown",
   "metadata": {},
   "source": [
    "<h1>1- ANN model </h1>"
   ]
  },
  {
   "cell_type": "code",
   "execution_count": 45,
   "metadata": {
    "execution": {
     "iopub.execute_input": "2021-09-28T16:35:43.176339Z",
     "iopub.status.busy": "2021-09-28T16:35:43.175980Z",
     "iopub.status.idle": "2021-09-28T16:35:43.186992Z",
     "shell.execute_reply": "2021-09-28T16:35:43.186400Z",
     "shell.execute_reply.started": "2021-09-28T16:35:43.176299Z"
    }
   },
   "outputs": [],
   "source": [
    "from sklearn.model_selection import train_test_split\n",
    "from tensorflow.keras.models import Sequential\n",
    "from tensorflow.keras.layers import Dense, Dropout\n",
    "\n",
    "X_train, X_test, y_train, y_test = train_test_split(x_norm, y_norm, test_size=0.33, random_state=42)"
   ]
  },
  {
   "cell_type": "code",
   "execution_count": 74,
   "metadata": {
    "execution": {
     "iopub.execute_input": "2021-09-28T16:47:11.533331Z",
     "iopub.status.busy": "2021-09-28T16:47:11.533027Z",
     "iopub.status.idle": "2021-09-28T16:47:11.615099Z",
     "shell.execute_reply": "2021-09-28T16:47:11.614449Z",
     "shell.execute_reply.started": "2021-09-28T16:47:11.533298Z"
    }
   },
   "outputs": [],
   "source": [
    "model = Sequential()\n",
    "model.add(Dense(64,activation=\"relu\",input_shape=(X_train.shape[0],X_train.shape[1])))\n",
    "model.add(Dropout(0.3))\n",
    "model.add(Dense(26,activation=\"relu\"))\n",
    "model.add(Dropout(0.3))\n",
    "# here we use linear activation (the default) f(x) = x\n",
    "model.add(Dense(1))\n",
    "model.compile(loss=\"mean_absolute_error\", optimizer='adam')"
   ]
  },
  {
   "cell_type": "code",
   "execution_count": 75,
   "metadata": {
    "execution": {
     "iopub.execute_input": "2021-09-28T16:49:22.331966Z",
     "iopub.status.busy": "2021-09-28T16:49:22.331231Z",
     "iopub.status.idle": "2021-09-28T16:50:02.094634Z",
     "shell.execute_reply": "2021-09-28T16:50:02.093875Z",
     "shell.execute_reply.started": "2021-09-28T16:49:22.331926Z"
    }
   },
   "outputs": [
    {
     "name": "stdout",
     "output_type": "stream",
     "text": [
      "Epoch 1/350\n",
      "WARNING:tensorflow:Model was constructed with shape (None, 8345, 7) for input KerasTensor(type_spec=TensorSpec(shape=(None, 8345, 7), dtype=tf.float32, name='dense_14_input'), name='dense_14_input', description=\"created by layer 'dense_14_input'\"), but it was called on an input with incompatible shape (None, 7).\n",
      "WARNING:tensorflow:Model was constructed with shape (None, 8345, 7) for input KerasTensor(type_spec=TensorSpec(shape=(None, 8345, 7), dtype=tf.float32, name='dense_14_input'), name='dense_14_input', description=\"created by layer 'dense_14_input'\"), but it was called on an input with incompatible shape (None, 7).\n",
      "131/131 [==============================] - 1s 1ms/step - loss: 0.0738\n",
      "Epoch 2/350\n",
      "131/131 [==============================] - 0s 2ms/step - loss: 0.0178\n",
      "Epoch 3/350\n",
      "131/131 [==============================] - 0s 2ms/step - loss: 0.0160\n",
      "Epoch 4/350\n",
      "131/131 [==============================] - 0s 2ms/step - loss: 0.0157\n",
      "Epoch 5/350\n",
      "131/131 [==============================] - 0s 2ms/step - loss: 0.0153\n",
      "Epoch 6/350\n",
      "131/131 [==============================] - 0s 2ms/step - loss: 0.0148\n",
      "Epoch 7/350\n",
      "131/131 [==============================] - 0s 2ms/step - loss: 0.0146\n",
      "Epoch 8/350\n",
      "131/131 [==============================] - 0s 2ms/step - loss: 0.0145\n",
      "Epoch 9/350\n",
      "131/131 [==============================] - 0s 2ms/step - loss: 0.0142\n",
      "Epoch 10/350\n",
      "131/131 [==============================] - 0s 2ms/step - loss: 0.0141\n",
      "Epoch 11/350\n",
      "131/131 [==============================] - 0s 2ms/step - loss: 0.0139\n",
      "Epoch 12/350\n",
      "131/131 [==============================] - 0s 2ms/step - loss: 0.0138\n",
      "Epoch 13/350\n",
      "131/131 [==============================] - 0s 2ms/step - loss: 0.0139\n",
      "Epoch 14/350\n",
      "131/131 [==============================] - 0s 2ms/step - loss: 0.0136\n",
      "Epoch 15/350\n",
      "131/131 [==============================] - 0s 2ms/step - loss: 0.0136\n",
      "Epoch 16/350\n",
      "131/131 [==============================] - 0s 2ms/step - loss: 0.0135\n",
      "Epoch 17/350\n",
      "131/131 [==============================] - 0s 2ms/step - loss: 0.0137\n",
      "Epoch 18/350\n",
      "131/131 [==============================] - 0s 2ms/step - loss: 0.0134\n",
      "Epoch 19/350\n",
      "131/131 [==============================] - 0s 2ms/step - loss: 0.0135\n",
      "Epoch 20/350\n",
      "131/131 [==============================] - 0s 2ms/step - loss: 0.0135\n",
      "Epoch 21/350\n",
      "131/131 [==============================] - 0s 2ms/step - loss: 0.0134\n",
      "Epoch 22/350\n",
      "131/131 [==============================] - 0s 2ms/step - loss: 0.0135\n",
      "Epoch 23/350\n",
      "131/131 [==============================] - 0s 2ms/step - loss: 0.0134\n",
      "Epoch 24/350\n",
      "131/131 [==============================] - 0s 2ms/step - loss: 0.0133\n",
      "Epoch 25/350\n",
      "131/131 [==============================] - 0s 2ms/step - loss: 0.0133\n",
      "Epoch 26/350\n",
      "131/131 [==============================] - 0s 2ms/step - loss: 0.0133\n",
      "Epoch 27/350\n",
      "131/131 [==============================] - 0s 2ms/step - loss: 0.0132\n",
      "Epoch 28/350\n",
      "131/131 [==============================] - 0s 2ms/step - loss: 0.0133\n",
      "Epoch 29/350\n",
      "131/131 [==============================] - 0s 2ms/step - loss: 0.0131\n",
      "Epoch 30/350\n",
      "131/131 [==============================] - 0s 2ms/step - loss: 0.0131\n",
      "Epoch 31/350\n",
      "131/131 [==============================] - 0s 3ms/step - loss: 0.0131\n",
      "Epoch 32/350\n",
      "131/131 [==============================] - 0s 3ms/step - loss: 0.0132\n",
      "Epoch 33/350\n",
      "131/131 [==============================] - 0s 2ms/step - loss: 0.0131\n",
      "Epoch 34/350\n",
      "131/131 [==============================] - 0s 2ms/step - loss: 0.0130\n",
      "Epoch 35/350\n",
      "131/131 [==============================] - 0s 2ms/step - loss: 0.0130\n",
      "Epoch 36/350\n",
      "131/131 [==============================] - 0s 2ms/step - loss: 0.0129\n",
      "Epoch 37/350\n",
      "131/131 [==============================] - 0s 2ms/step - loss: 0.0128\n",
      "Epoch 38/350\n",
      "131/131 [==============================] - 0s 3ms/step - loss: 0.0131\n",
      "Epoch 39/350\n",
      "131/131 [==============================] - 0s 3ms/step - loss: 0.0129\n",
      "Epoch 40/350\n",
      "131/131 [==============================] - 0s 2ms/step - loss: 0.0129\n",
      "Epoch 41/350\n",
      "131/131 [==============================] - 0s 1ms/step - loss: 0.0128\n",
      "Epoch 42/350\n",
      "131/131 [==============================] - 0s 1ms/step - loss: 0.0129\n",
      "Epoch 43/350\n",
      "131/131 [==============================] - 0s 1ms/step - loss: 0.0128\n",
      "Epoch 44/350\n",
      "131/131 [==============================] - 0s 2ms/step - loss: 0.0127\n",
      "Epoch 45/350\n",
      "131/131 [==============================] - 0s 2ms/step - loss: 0.0127\n",
      "Epoch 46/350\n",
      "131/131 [==============================] - 0s 2ms/step - loss: 0.0124\n",
      "Epoch 47/350\n",
      "131/131 [==============================] - 0s 3ms/step - loss: 0.0125\n",
      "Epoch 48/350\n",
      "131/131 [==============================] - 0s 2ms/step - loss: 0.0125\n",
      "Epoch 49/350\n",
      "131/131 [==============================] - 0s 1ms/step - loss: 0.0125\n",
      "Epoch 50/350\n",
      "131/131 [==============================] - 0s 1ms/step - loss: 0.0124\n",
      "Epoch 51/350\n",
      "131/131 [==============================] - 0s 1ms/step - loss: 0.0124\n",
      "Epoch 52/350\n",
      "131/131 [==============================] - 1s 4ms/step - loss: 0.0121\n",
      "Epoch 53/350\n",
      "131/131 [==============================] - 0s 4ms/step - loss: 0.0120\n",
      "Epoch 54/350\n",
      "131/131 [==============================] - 0s 4ms/step - loss: 0.0120\n",
      "Epoch 55/350\n",
      "131/131 [==============================] - 0s 3ms/step - loss: 0.0121\n",
      "Epoch 56/350\n",
      "131/131 [==============================] - 0s 3ms/step - loss: 0.0120\n",
      "Epoch 57/350\n",
      "131/131 [==============================] - 0s 3ms/step - loss: 0.0119\n",
      "Epoch 58/350\n",
      "131/131 [==============================] - 0s 3ms/step - loss: 0.0120\n",
      "Epoch 59/350\n",
      "131/131 [==============================] - 0s 3ms/step - loss: 0.0118\n",
      "Epoch 60/350\n",
      "131/131 [==============================] - 0s 3ms/step - loss: 0.0119\n",
      "Epoch 61/350\n",
      "131/131 [==============================] - 0s 2ms/step - loss: 0.0119\n",
      "Epoch 62/350\n",
      "131/131 [==============================] - 0s 2ms/step - loss: 0.0118\n",
      "Epoch 63/350\n",
      "131/131 [==============================] - 0s 3ms/step - loss: 0.0117\n",
      "Epoch 64/350\n",
      "131/131 [==============================] - 0s 2ms/step - loss: 0.0117\n",
      "Epoch 65/350\n",
      "131/131 [==============================] - 0s 2ms/step - loss: 0.0117\n",
      "Epoch 66/350\n",
      "131/131 [==============================] - 0s 2ms/step - loss: 0.0118\n",
      "Epoch 67/350\n",
      "131/131 [==============================] - 0s 3ms/step - loss: 0.0117\n",
      "Epoch 68/350\n",
      "131/131 [==============================] - 0s 2ms/step - loss: 0.0117\n",
      "Epoch 69/350\n",
      "131/131 [==============================] - 0s 2ms/step - loss: 0.0116\n",
      "Epoch 70/350\n",
      "131/131 [==============================] - 0s 3ms/step - loss: 0.0116\n",
      "Epoch 71/350\n",
      "131/131 [==============================] - 0s 2ms/step - loss: 0.0117\n",
      "Epoch 72/350\n",
      "131/131 [==============================] - 0s 2ms/step - loss: 0.0115\n",
      "Epoch 73/350\n",
      "131/131 [==============================] - 0s 2ms/step - loss: 0.0116\n",
      "Epoch 74/350\n",
      "131/131 [==============================] - 0s 2ms/step - loss: 0.0116\n",
      "Epoch 75/350\n",
      "131/131 [==============================] - 0s 2ms/step - loss: 0.0116\n",
      "Epoch 76/350\n",
      "131/131 [==============================] - 0s 2ms/step - loss: 0.0119\n",
      "Epoch 77/350\n",
      "131/131 [==============================] - 0s 2ms/step - loss: 0.0115\n",
      "Epoch 78/350\n",
      "131/131 [==============================] - 0s 2ms/step - loss: 0.0117\n",
      "Epoch 79/350\n",
      "131/131 [==============================] - 0s 2ms/step - loss: 0.0114\n",
      "Epoch 80/350\n",
      "131/131 [==============================] - 0s 2ms/step - loss: 0.0115\n",
      "Epoch 81/350\n",
      "131/131 [==============================] - 0s 1ms/step - loss: 0.0117\n",
      "Epoch 82/350\n",
      "131/131 [==============================] - 0s 2ms/step - loss: 0.0115\n",
      "Epoch 83/350\n",
      "131/131 [==============================] - 0s 1ms/step - loss: 0.0114\n",
      "Epoch 84/350\n",
      "131/131 [==============================] - 0s 1ms/step - loss: 0.0114\n",
      "Epoch 85/350\n",
      "131/131 [==============================] - 0s 1ms/step - loss: 0.0113\n",
      "Epoch 86/350\n",
      "131/131 [==============================] - 0s 1ms/step - loss: 0.0114\n",
      "Epoch 87/350\n",
      "131/131 [==============================] - 0s 1ms/step - loss: 0.0113\n",
      "Epoch 88/350\n",
      "131/131 [==============================] - 0s 2ms/step - loss: 0.0114\n",
      "Epoch 89/350\n",
      "131/131 [==============================] - 0s 2ms/step - loss: 0.0113\n",
      "Epoch 90/350\n",
      "131/131 [==============================] - 0s 2ms/step - loss: 0.0114\n",
      "Epoch 91/350\n",
      "131/131 [==============================] - 0s 2ms/step - loss: 0.0116\n",
      "Epoch 92/350\n"
     ]
    },
    {
     "name": "stdout",
     "output_type": "stream",
     "text": [
      "131/131 [==============================] - 0s 1ms/step - loss: 0.0113\n",
      "Epoch 93/350\n",
      "131/131 [==============================] - 0s 1ms/step - loss: 0.0113\n",
      "Epoch 94/350\n",
      "131/131 [==============================] - 0s 2ms/step - loss: 0.0114\n",
      "Epoch 95/350\n",
      "131/131 [==============================] - 0s 3ms/step - loss: 0.0114\n",
      "Epoch 96/350\n",
      "131/131 [==============================] - 0s 3ms/step - loss: 0.0112\n",
      "Epoch 97/350\n",
      "131/131 [==============================] - 0s 2ms/step - loss: 0.0113\n",
      "Epoch 98/350\n",
      "131/131 [==============================] - 0s 1ms/step - loss: 0.0114\n",
      "Epoch 99/350\n",
      "131/131 [==============================] - 0s 1ms/step - loss: 0.0115\n",
      "Epoch 100/350\n",
      "131/131 [==============================] - 0s 2ms/step - loss: 0.0111\n",
      "Epoch 101/350\n",
      "131/131 [==============================] - 0s 2ms/step - loss: 0.0116\n",
      "Epoch 102/350\n",
      "131/131 [==============================] - 0s 2ms/step - loss: 0.0115\n",
      "Epoch 103/350\n",
      "131/131 [==============================] - 0s 2ms/step - loss: 0.0114\n",
      "Epoch 104/350\n",
      "131/131 [==============================] - 0s 2ms/step - loss: 0.0113\n",
      "Epoch 105/350\n",
      "131/131 [==============================] - 0s 2ms/step - loss: 0.0113\n",
      "Epoch 106/350\n",
      "131/131 [==============================] - 0s 1ms/step - loss: 0.0113\n",
      "Epoch 107/350\n",
      "131/131 [==============================] - 0s 1ms/step - loss: 0.0111\n",
      "Epoch 108/350\n",
      "131/131 [==============================] - 0s 1ms/step - loss: 0.0113\n",
      "Epoch 109/350\n",
      "131/131 [==============================] - 0s 1ms/step - loss: 0.0112\n",
      "Epoch 110/350\n",
      "131/131 [==============================] - 0s 2ms/step - loss: 0.0113\n",
      "Epoch 111/350\n",
      "131/131 [==============================] - 0s 2ms/step - loss: 0.0111A: 0s - loss: 0.0\n",
      "Epoch 112/350\n",
      "131/131 [==============================] - 0s 2ms/step - loss: 0.0112\n",
      "Epoch 113/350\n",
      "131/131 [==============================] - 0s 2ms/step - loss: 0.0112\n",
      "Epoch 114/350\n",
      "131/131 [==============================] - 0s 2ms/step - loss: 0.0113\n",
      "Epoch 115/350\n",
      "131/131 [==============================] - 0s 2ms/step - loss: 0.0112\n",
      "Epoch 116/350\n",
      "131/131 [==============================] - 0s 2ms/step - loss: 0.0109\n",
      "Epoch 117/350\n",
      "131/131 [==============================] - 0s 2ms/step - loss: 0.0112\n",
      "Epoch 118/350\n",
      "131/131 [==============================] - 0s 2ms/step - loss: 0.0109\n",
      "Epoch 119/350\n",
      "131/131 [==============================] - 0s 2ms/step - loss: 0.0113\n",
      "Epoch 120/350\n",
      "131/131 [==============================] - 0s 2ms/step - loss: 0.0109\n",
      "Epoch 121/350\n",
      "131/131 [==============================] - 0s 2ms/step - loss: 0.0111\n",
      "Epoch 122/350\n",
      "131/131 [==============================] - 0s 2ms/step - loss: 0.0108\n",
      "Epoch 123/350\n",
      "131/131 [==============================] - 0s 2ms/step - loss: 0.0110\n",
      "Epoch 124/350\n",
      "131/131 [==============================] - 0s 2ms/step - loss: 0.0110\n",
      "Epoch 125/350\n",
      "131/131 [==============================] - 0s 2ms/step - loss: 0.0110\n",
      "Epoch 126/350\n",
      "131/131 [==============================] - 0s 2ms/step - loss: 0.0108\n",
      "Epoch 127/350\n",
      "131/131 [==============================] - 0s 2ms/step - loss: 0.0108\n",
      "Epoch 128/350\n",
      "131/131 [==============================] - 0s 2ms/step - loss: 0.0110\n",
      "Epoch 129/350\n",
      "131/131 [==============================] - 0s 2ms/step - loss: 0.0107\n",
      "Epoch 130/350\n",
      "131/131 [==============================] - 0s 1ms/step - loss: 0.0107\n",
      "Epoch 131/350\n",
      "131/131 [==============================] - 0s 1ms/step - loss: 0.0107\n",
      "Epoch 132/350\n",
      "131/131 [==============================] - 0s 2ms/step - loss: 0.0109\n",
      "Epoch 133/350\n",
      "131/131 [==============================] - 0s 2ms/step - loss: 0.0108\n",
      "Epoch 134/350\n",
      "131/131 [==============================] - 0s 1ms/step - loss: 0.0107\n",
      "Epoch 135/350\n",
      "131/131 [==============================] - 0s 2ms/step - loss: 0.0109\n",
      "Epoch 136/350\n",
      "131/131 [==============================] - 0s 2ms/step - loss: 0.0110\n",
      "Epoch 137/350\n",
      "131/131 [==============================] - 0s 1ms/step - loss: 0.0107\n",
      "Epoch 138/350\n",
      "131/131 [==============================] - 0s 2ms/step - loss: 0.0106\n",
      "Epoch 139/350\n",
      "131/131 [==============================] - 0s 2ms/step - loss: 0.0106\n",
      "Epoch 140/350\n",
      "131/131 [==============================] - 0s 1ms/step - loss: 0.0108\n",
      "Epoch 141/350\n",
      "131/131 [==============================] - 0s 1ms/step - loss: 0.0107\n",
      "Epoch 142/350\n",
      "131/131 [==============================] - 0s 2ms/step - loss: 0.0107\n",
      "Epoch 143/350\n",
      "131/131 [==============================] - 0s 2ms/step - loss: 0.0107\n",
      "Epoch 144/350\n",
      "131/131 [==============================] - 0s 2ms/step - loss: 0.0107\n",
      "Epoch 145/350\n",
      "131/131 [==============================] - 0s 2ms/step - loss: 0.0106\n",
      "Epoch 146/350\n",
      "131/131 [==============================] - 0s 2ms/step - loss: 0.0107\n",
      "Epoch 147/350\n",
      "131/131 [==============================] - 0s 3ms/step - loss: 0.0107\n",
      "Epoch 148/350\n",
      "131/131 [==============================] - 0s 2ms/step - loss: 0.0107\n",
      "Epoch 149/350\n",
      "131/131 [==============================] - 0s 2ms/step - loss: 0.0109\n",
      "Epoch 150/350\n",
      "131/131 [==============================] - 0s 2ms/step - loss: 0.0107\n",
      "Epoch 151/350\n",
      "131/131 [==============================] - 0s 2ms/step - loss: 0.0107\n",
      "Epoch 152/350\n",
      "131/131 [==============================] - 0s 2ms/step - loss: 0.0110\n",
      "Epoch 153/350\n",
      "131/131 [==============================] - 0s 2ms/step - loss: 0.0108A: 0s - loss: 0.010 - ETA: 0s - loss: 0.01\n",
      "Epoch 154/350\n",
      "131/131 [==============================] - 0s 2ms/step - loss: 0.0106\n",
      "Epoch 155/350\n",
      "131/131 [==============================] - 0s 1ms/step - loss: 0.0107\n",
      "Epoch 156/350\n",
      "131/131 [==============================] - 0s 1ms/step - loss: 0.0106\n",
      "Epoch 157/350\n",
      "131/131 [==============================] - 0s 1ms/step - loss: 0.0107\n",
      "Epoch 158/350\n",
      "131/131 [==============================] - 0s 1ms/step - loss: 0.0108\n",
      "Epoch 159/350\n",
      "131/131 [==============================] - 0s 1ms/step - loss: 0.0107\n",
      "Epoch 160/350\n",
      "131/131 [==============================] - 0s 1ms/step - loss: 0.0105\n",
      "Epoch 161/350\n",
      "131/131 [==============================] - 0s 2ms/step - loss: 0.0105\n",
      "Epoch 162/350\n",
      "131/131 [==============================] - 0s 2ms/step - loss: 0.0109\n",
      "Epoch 163/350\n",
      "131/131 [==============================] - 0s 2ms/step - loss: 0.0106\n",
      "Epoch 164/350\n",
      "131/131 [==============================] - 0s 1ms/step - loss: 0.0106\n",
      "Epoch 165/350\n",
      "131/131 [==============================] - 0s 2ms/step - loss: 0.0107\n",
      "Epoch 166/350\n",
      "131/131 [==============================] - 0s 2ms/step - loss: 0.0106\n",
      "Epoch 167/350\n",
      "131/131 [==============================] - 0s 2ms/step - loss: 0.0106\n",
      "Epoch 168/350\n",
      "131/131 [==============================] - 0s 1ms/step - loss: 0.0107\n",
      "Epoch 169/350\n",
      "131/131 [==============================] - 0s 2ms/step - loss: 0.0106\n",
      "Epoch 170/350\n",
      "131/131 [==============================] - 0s 3ms/step - loss: 0.0106\n",
      "Epoch 171/350\n",
      "131/131 [==============================] - 0s 2ms/step - loss: 0.0105\n",
      "Epoch 172/350\n",
      "131/131 [==============================] - 0s 4ms/step - loss: 0.0107A: 0s - loss\n",
      "Epoch 173/350\n",
      "131/131 [==============================] - 0s 4ms/step - loss: 0.0106\n",
      "Epoch 174/350\n",
      "131/131 [==============================] - 0s 3ms/step - loss: 0.0108\n",
      "Epoch 175/350\n",
      "131/131 [==============================] - 0s 3ms/step - loss: 0.0107\n",
      "Epoch 176/350\n",
      "131/131 [==============================] - 0s 2ms/step - loss: 0.0107\n",
      "Epoch 177/350\n",
      "131/131 [==============================] - 0s 1ms/step - loss: 0.0106\n",
      "Epoch 178/350\n",
      "131/131 [==============================] - 0s 1ms/step - loss: 0.0106\n",
      "Epoch 179/350\n",
      "131/131 [==============================] - 0s 1ms/step - loss: 0.0106\n",
      "Epoch 180/350\n",
      "131/131 [==============================] - 0s 1ms/step - loss: 0.0107\n",
      "Epoch 181/350\n",
      "131/131 [==============================] - 0s 2ms/step - loss: 0.0108\n",
      "Epoch 182/350\n",
      "131/131 [==============================] - 0s 1ms/step - loss: 0.0105\n",
      "Epoch 183/350\n",
      "131/131 [==============================] - 0s 2ms/step - loss: 0.0108\n",
      "Epoch 184/350\n",
      "131/131 [==============================] - 0s 2ms/step - loss: 0.0106\n",
      "Epoch 185/350\n",
      "131/131 [==============================] - 0s 2ms/step - loss: 0.0105\n",
      "Epoch 186/350\n",
      "131/131 [==============================] - 0s 2ms/step - loss: 0.0106\n",
      "Epoch 187/350\n",
      "131/131 [==============================] - 0s 2ms/step - loss: 0.0104\n",
      "Epoch 188/350\n"
     ]
    },
    {
     "name": "stdout",
     "output_type": "stream",
     "text": [
      "131/131 [==============================] - 0s 2ms/step - loss: 0.0105\n",
      "Epoch 189/350\n",
      "131/131 [==============================] - 0s 1ms/step - loss: 0.0107\n",
      "Epoch 190/350\n",
      "131/131 [==============================] - 0s 2ms/step - loss: 0.0107\n",
      "Epoch 191/350\n",
      "131/131 [==============================] - 0s 2ms/step - loss: 0.0107\n",
      "Epoch 192/350\n",
      "131/131 [==============================] - 0s 2ms/step - loss: 0.0105\n",
      "Epoch 193/350\n",
      "131/131 [==============================] - 0s 2ms/step - loss: 0.0104\n",
      "Epoch 194/350\n",
      "131/131 [==============================] - 0s 2ms/step - loss: 0.0106\n",
      "Epoch 195/350\n",
      "131/131 [==============================] - 0s 2ms/step - loss: 0.0105\n",
      "Epoch 196/350\n",
      "131/131 [==============================] - 0s 3ms/step - loss: 0.0105\n",
      "Epoch 197/350\n",
      "131/131 [==============================] - 0s 3ms/step - loss: 0.0106\n",
      "Epoch 198/350\n",
      "131/131 [==============================] - 0s 2ms/step - loss: 0.0105\n",
      "Epoch 199/350\n",
      "131/131 [==============================] - 0s 2ms/step - loss: 0.0106\n",
      "Epoch 200/350\n",
      "131/131 [==============================] - 0s 2ms/step - loss: 0.0107\n",
      "Epoch 201/350\n",
      "131/131 [==============================] - 0s 2ms/step - loss: 0.0106\n",
      "Epoch 202/350\n",
      "131/131 [==============================] - 0s 2ms/step - loss: 0.0103\n",
      "Epoch 203/350\n",
      "131/131 [==============================] - 0s 1ms/step - loss: 0.0108\n",
      "Epoch 204/350\n",
      "131/131 [==============================] - 0s 2ms/step - loss: 0.0106\n",
      "Epoch 205/350\n",
      "131/131 [==============================] - 0s 2ms/step - loss: 0.0107\n",
      "Epoch 206/350\n",
      "131/131 [==============================] - 0s 2ms/step - loss: 0.0104\n",
      "Epoch 207/350\n",
      "131/131 [==============================] - 0s 2ms/step - loss: 0.0105\n",
      "Epoch 208/350\n",
      "131/131 [==============================] - 0s 2ms/step - loss: 0.0104\n",
      "Epoch 209/350\n",
      "131/131 [==============================] - 0s 2ms/step - loss: 0.0105\n",
      "Epoch 210/350\n",
      "131/131 [==============================] - 0s 2ms/step - loss: 0.0106\n",
      "Epoch 211/350\n",
      "131/131 [==============================] - 0s 2ms/step - loss: 0.0105A: 0s - loss: 0.01\n",
      "Epoch 212/350\n",
      "131/131 [==============================] - 0s 2ms/step - loss: 0.0104\n",
      "Epoch 213/350\n",
      "131/131 [==============================] - 0s 2ms/step - loss: 0.0104\n",
      "Epoch 214/350\n",
      "131/131 [==============================] - 0s 2ms/step - loss: 0.0106\n",
      "Epoch 215/350\n",
      "131/131 [==============================] - 0s 2ms/step - loss: 0.0106\n",
      "Epoch 216/350\n",
      "131/131 [==============================] - 0s 2ms/step - loss: 0.0107\n",
      "Epoch 217/350\n",
      "131/131 [==============================] - 0s 2ms/step - loss: 0.0104\n",
      "Epoch 218/350\n",
      "131/131 [==============================] - 0s 2ms/step - loss: 0.0105\n",
      "Epoch 219/350\n",
      "131/131 [==============================] - 0s 4ms/step - loss: 0.0106\n",
      "Epoch 220/350\n",
      "131/131 [==============================] - 0s 3ms/step - loss: 0.0106\n",
      "Epoch 221/350\n",
      "131/131 [==============================] - 0s 3ms/step - loss: 0.0105\n",
      "Epoch 222/350\n",
      "131/131 [==============================] - 0s 2ms/step - loss: 0.0106\n",
      "Epoch 223/350\n",
      "131/131 [==============================] - 0s 2ms/step - loss: 0.0106\n",
      "Epoch 224/350\n",
      "131/131 [==============================] - 0s 2ms/step - loss: 0.0105\n",
      "Epoch 225/350\n",
      "131/131 [==============================] - 0s 1ms/step - loss: 0.0107\n",
      "Epoch 226/350\n",
      "131/131 [==============================] - 0s 2ms/step - loss: 0.0106\n",
      "Epoch 227/350\n",
      "131/131 [==============================] - 0s 2ms/step - loss: 0.0106\n",
      "Epoch 228/350\n",
      "131/131 [==============================] - 0s 1ms/step - loss: 0.0106\n",
      "Epoch 229/350\n",
      "131/131 [==============================] - 0s 1ms/step - loss: 0.0103\n",
      "Epoch 230/350\n",
      "131/131 [==============================] - 0s 2ms/step - loss: 0.0105\n",
      "Epoch 231/350\n",
      "131/131 [==============================] - 0s 2ms/step - loss: 0.0105\n",
      "Epoch 232/350\n",
      "131/131 [==============================] - 0s 2ms/step - loss: 0.0104\n",
      "Epoch 233/350\n",
      "131/131 [==============================] - 0s 1ms/step - loss: 0.0104\n",
      "Epoch 234/350\n",
      "131/131 [==============================] - 0s 2ms/step - loss: 0.0105\n",
      "Epoch 235/350\n",
      "131/131 [==============================] - 0s 2ms/step - loss: 0.0105\n",
      "Epoch 236/350\n",
      "131/131 [==============================] - 0s 2ms/step - loss: 0.0106\n",
      "Epoch 237/350\n",
      "131/131 [==============================] - 0s 2ms/step - loss: 0.0106\n",
      "Epoch 238/350\n",
      "131/131 [==============================] - 0s 1ms/step - loss: 0.0104\n",
      "Epoch 239/350\n",
      "131/131 [==============================] - 0s 1ms/step - loss: 0.0106\n",
      "Epoch 240/350\n",
      "131/131 [==============================] - 0s 2ms/step - loss: 0.0104\n",
      "Epoch 241/350\n",
      "131/131 [==============================] - 0s 1ms/step - loss: 0.0106\n",
      "Epoch 242/350\n",
      "131/131 [==============================] - 0s 2ms/step - loss: 0.0104\n",
      "Epoch 243/350\n",
      "131/131 [==============================] - 0s 2ms/step - loss: 0.0105\n",
      "Epoch 244/350\n",
      "131/131 [==============================] - 0s 1ms/step - loss: 0.0105\n",
      "Epoch 245/350\n",
      "131/131 [==============================] - 0s 2ms/step - loss: 0.0105\n",
      "Epoch 246/350\n",
      "131/131 [==============================] - 0s 2ms/step - loss: 0.0104\n",
      "Epoch 247/350\n",
      "131/131 [==============================] - 0s 3ms/step - loss: 0.0103\n",
      "Epoch 248/350\n",
      "131/131 [==============================] - 0s 2ms/step - loss: 0.0105\n",
      "Epoch 249/350\n",
      "131/131 [==============================] - 0s 2ms/step - loss: 0.0103\n",
      "Epoch 250/350\n",
      "131/131 [==============================] - 0s 2ms/step - loss: 0.0106\n",
      "Epoch 251/350\n",
      "131/131 [==============================] - 0s 2ms/step - loss: 0.0105\n",
      "Epoch 252/350\n",
      "131/131 [==============================] - 0s 1ms/step - loss: 0.0106\n",
      "Epoch 253/350\n",
      "131/131 [==============================] - 0s 2ms/step - loss: 0.0104\n",
      "Epoch 254/350\n",
      "131/131 [==============================] - 0s 1ms/step - loss: 0.0106\n",
      "Epoch 255/350\n",
      "131/131 [==============================] - 0s 2ms/step - loss: 0.0105\n",
      "Epoch 256/350\n",
      "131/131 [==============================] - 0s 2ms/step - loss: 0.0106\n",
      "Epoch 257/350\n",
      "131/131 [==============================] - 0s 2ms/step - loss: 0.0106\n",
      "Epoch 258/350\n",
      "131/131 [==============================] - 0s 1ms/step - loss: 0.0104\n",
      "Epoch 259/350\n",
      "131/131 [==============================] - 0s 2ms/step - loss: 0.0105\n",
      "Epoch 260/350\n",
      "131/131 [==============================] - 0s 2ms/step - loss: 0.0106\n",
      "Epoch 261/350\n",
      "131/131 [==============================] - 0s 2ms/step - loss: 0.0104\n",
      "Epoch 262/350\n",
      "131/131 [==============================] - 0s 2ms/step - loss: 0.0104\n",
      "Epoch 263/350\n",
      "131/131 [==============================] - 0s 2ms/step - loss: 0.0106\n",
      "Epoch 264/350\n",
      "131/131 [==============================] - 0s 2ms/step - loss: 0.0105\n",
      "Epoch 265/350\n",
      "131/131 [==============================] - 0s 2ms/step - loss: 0.0105\n",
      "Epoch 266/350\n",
      "131/131 [==============================] - 0s 2ms/step - loss: 0.0105\n",
      "Epoch 267/350\n",
      "131/131 [==============================] - 0s 2ms/step - loss: 0.0106\n",
      "Epoch 268/350\n",
      "131/131 [==============================] - 0s 2ms/step - loss: 0.0104\n",
      "Epoch 269/350\n",
      "131/131 [==============================] - 0s 2ms/step - loss: 0.0104\n",
      "Epoch 270/350\n",
      "131/131 [==============================] - 0s 2ms/step - loss: 0.0105\n",
      "Epoch 271/350\n",
      "131/131 [==============================] - 0s 2ms/step - loss: 0.0106\n",
      "Epoch 272/350\n",
      "131/131 [==============================] - 0s 2ms/step - loss: 0.0106\n",
      "Epoch 273/350\n",
      "131/131 [==============================] - 0s 2ms/step - loss: 0.0105\n",
      "Epoch 274/350\n",
      "131/131 [==============================] - 0s 3ms/step - loss: 0.0105\n",
      "Epoch 275/350\n",
      "131/131 [==============================] - 0s 2ms/step - loss: 0.0106\n",
      "Epoch 276/350\n",
      "131/131 [==============================] - 0s 2ms/step - loss: 0.0105\n",
      "Epoch 277/350\n",
      "131/131 [==============================] - 0s 2ms/step - loss: 0.0104\n",
      "Epoch 278/350\n",
      "131/131 [==============================] - 0s 2ms/step - loss: 0.0106\n",
      "Epoch 279/350\n",
      "131/131 [==============================] - 0s 2ms/step - loss: 0.0104\n",
      "Epoch 280/350\n",
      "131/131 [==============================] - 0s 1ms/step - loss: 0.0106\n",
      "Epoch 281/350\n",
      "131/131 [==============================] - 0s 1ms/step - loss: 0.0103\n",
      "Epoch 282/350\n",
      "131/131 [==============================] - 0s 1ms/step - loss: 0.0104\n",
      "Epoch 283/350\n",
      "131/131 [==============================] - 0s 1ms/step - loss: 0.0106\n",
      "Epoch 284/350\n",
      "131/131 [==============================] - 0s 2ms/step - loss: 0.0106\n",
      "Epoch 285/350\n"
     ]
    },
    {
     "name": "stdout",
     "output_type": "stream",
     "text": [
      "131/131 [==============================] - 0s 1ms/step - loss: 0.0105\n",
      "Epoch 286/350\n",
      "131/131 [==============================] - 0s 1ms/step - loss: 0.0106\n",
      "Epoch 287/350\n",
      "131/131 [==============================] - 0s 1ms/step - loss: 0.0104\n",
      "Epoch 288/350\n",
      "131/131 [==============================] - 0s 1ms/step - loss: 0.0104\n",
      "Epoch 289/350\n",
      "131/131 [==============================] - 0s 2ms/step - loss: 0.0105\n",
      "Epoch 290/350\n",
      "131/131 [==============================] - 0s 2ms/step - loss: 0.0104\n",
      "Epoch 291/350\n",
      "131/131 [==============================] - 0s 1ms/step - loss: 0.0104\n",
      "Epoch 292/350\n",
      "131/131 [==============================] - 0s 1ms/step - loss: 0.0106\n",
      "Epoch 293/350\n",
      "131/131 [==============================] - 0s 1ms/step - loss: 0.0103\n",
      "Epoch 294/350\n",
      "131/131 [==============================] - 0s 1ms/step - loss: 0.0104\n",
      "Epoch 295/350\n",
      "131/131 [==============================] - 0s 2ms/step - loss: 0.0105\n",
      "Epoch 296/350\n",
      "131/131 [==============================] - 0s 1ms/step - loss: 0.0106\n",
      "Epoch 297/350\n",
      "131/131 [==============================] - 0s 1ms/step - loss: 0.0105\n",
      "Epoch 298/350\n",
      "131/131 [==============================] - 0s 1ms/step - loss: 0.0104\n",
      "Epoch 299/350\n",
      "131/131 [==============================] - 0s 1ms/step - loss: 0.0104\n",
      "Epoch 300/350\n",
      "131/131 [==============================] - 0s 3ms/step - loss: 0.0104\n",
      "Epoch 301/350\n",
      "131/131 [==============================] - 0s 2ms/step - loss: 0.0103\n",
      "Epoch 302/350\n",
      "131/131 [==============================] - 0s 3ms/step - loss: 0.0104\n",
      "Epoch 303/350\n",
      "131/131 [==============================] - 0s 2ms/step - loss: 0.0106\n",
      "Epoch 304/350\n",
      "131/131 [==============================] - 0s 2ms/step - loss: 0.0105\n",
      "Epoch 305/350\n",
      "131/131 [==============================] - 0s 1ms/step - loss: 0.0106\n",
      "Epoch 306/350\n",
      "131/131 [==============================] - 0s 1ms/step - loss: 0.0103\n",
      "Epoch 307/350\n",
      "131/131 [==============================] - 0s 1ms/step - loss: 0.0106\n",
      "Epoch 308/350\n",
      "131/131 [==============================] - 0s 2ms/step - loss: 0.0105\n",
      "Epoch 309/350\n",
      "131/131 [==============================] - 0s 2ms/step - loss: 0.0104\n",
      "Epoch 310/350\n",
      "131/131 [==============================] - 0s 1ms/step - loss: 0.0103\n",
      "Epoch 311/350\n",
      "131/131 [==============================] - 0s 1ms/step - loss: 0.0105\n",
      "Epoch 312/350\n",
      "131/131 [==============================] - 0s 1ms/step - loss: 0.0107\n",
      "Epoch 313/350\n",
      "131/131 [==============================] - 0s 1ms/step - loss: 0.0105\n",
      "Epoch 314/350\n",
      "131/131 [==============================] - 0s 2ms/step - loss: 0.0104\n",
      "Epoch 315/350\n",
      "131/131 [==============================] - 0s 2ms/step - loss: 0.0104\n",
      "Epoch 316/350\n",
      "131/131 [==============================] - 0s 2ms/step - loss: 0.0103\n",
      "Epoch 317/350\n",
      "131/131 [==============================] - 0s 1ms/step - loss: 0.0105\n",
      "Epoch 318/350\n",
      "131/131 [==============================] - 0s 1ms/step - loss: 0.0106\n",
      "Epoch 319/350\n",
      "131/131 [==============================] - 0s 2ms/step - loss: 0.0106\n",
      "Epoch 320/350\n",
      "131/131 [==============================] - 0s 2ms/step - loss: 0.0105\n",
      "Epoch 321/350\n",
      "131/131 [==============================] - 0s 2ms/step - loss: 0.0104\n",
      "Epoch 322/350\n",
      "131/131 [==============================] - 0s 2ms/step - loss: 0.0105\n",
      "Epoch 323/350\n",
      "131/131 [==============================] - 0s 2ms/step - loss: 0.0105\n",
      "Epoch 324/350\n",
      "131/131 [==============================] - 0s 2ms/step - loss: 0.0106\n",
      "Epoch 325/350\n",
      "131/131 [==============================] - 0s 2ms/step - loss: 0.0105\n",
      "Epoch 326/350\n",
      "131/131 [==============================] - 0s 3ms/step - loss: 0.0103\n",
      "Epoch 327/350\n",
      "131/131 [==============================] - 0s 3ms/step - loss: 0.0105\n",
      "Epoch 328/350\n",
      "131/131 [==============================] - 0s 3ms/step - loss: 0.0105\n",
      "Epoch 329/350\n",
      "131/131 [==============================] - 0s 2ms/step - loss: 0.0105\n",
      "Epoch 330/350\n",
      "131/131 [==============================] - 0s 2ms/step - loss: 0.0106\n",
      "Epoch 331/350\n",
      "131/131 [==============================] - 0s 2ms/step - loss: 0.0105\n",
      "Epoch 332/350\n",
      "131/131 [==============================] - ETA: 0s - loss: 0.010 - 0s 2ms/step - loss: 0.0106\n",
      "Epoch 333/350\n",
      "131/131 [==============================] - 0s 2ms/step - loss: 0.0102\n",
      "Epoch 334/350\n",
      "131/131 [==============================] - 0s 2ms/step - loss: 0.0105\n",
      "Epoch 335/350\n",
      "131/131 [==============================] - 0s 2ms/step - loss: 0.0105\n",
      "Epoch 336/350\n",
      "131/131 [==============================] - 0s 2ms/step - loss: 0.0104\n",
      "Epoch 337/350\n",
      "131/131 [==============================] - 0s 1ms/step - loss: 0.0105\n",
      "Epoch 338/350\n",
      "131/131 [==============================] - 0s 2ms/step - loss: 0.0103\n",
      "Epoch 339/350\n",
      "131/131 [==============================] - 0s 2ms/step - loss: 0.0105\n",
      "Epoch 340/350\n",
      "131/131 [==============================] - 0s 2ms/step - loss: 0.0102\n",
      "Epoch 341/350\n",
      "131/131 [==============================] - 0s 2ms/step - loss: 0.0104\n",
      "Epoch 342/350\n",
      "131/131 [==============================] - 0s 2ms/step - loss: 0.0105\n",
      "Epoch 343/350\n",
      "131/131 [==============================] - 0s 2ms/step - loss: 0.0105\n",
      "Epoch 344/350\n",
      "131/131 [==============================] - 0s 2ms/step - loss: 0.0104\n",
      "Epoch 345/350\n",
      "131/131 [==============================] - 0s 2ms/step - loss: 0.0104\n",
      "Epoch 346/350\n",
      "131/131 [==============================] - 0s 2ms/step - loss: 0.0106\n",
      "Epoch 347/350\n",
      "131/131 [==============================] - 0s 2ms/step - loss: 0.0105\n",
      "Epoch 348/350\n",
      "131/131 [==============================] - 0s 2ms/step - loss: 0.0103\n",
      "Epoch 349/350\n",
      "131/131 [==============================] - 0s 2ms/step - loss: 0.0106\n",
      "Epoch 350/350\n",
      "131/131 [==============================] - 0s 2ms/step - loss: 0.0105\n"
     ]
    },
    {
     "data": {
      "text/plain": [
       "<keras.callbacks.History at 0x20713e51790>"
      ]
     },
     "execution_count": 75,
     "metadata": {},
     "output_type": "execute_result"
    }
   ],
   "source": [
    "model.fit(X_train, y_train, epochs=350, batch_size=64)"
   ]
  },
  {
   "cell_type": "code",
   "execution_count": 77,
   "metadata": {
    "execution": {
     "iopub.execute_input": "2021-09-28T16:50:06.009615Z",
     "iopub.status.busy": "2021-09-28T16:50:06.009346Z",
     "iopub.status.idle": "2021-09-28T16:50:06.187387Z",
     "shell.execute_reply": "2021-09-28T16:50:06.186569Z",
     "shell.execute_reply.started": "2021-09-28T16:50:06.009588Z"
    }
   },
   "outputs": [
    {
     "name": "stdout",
     "output_type": "stream",
     "text": [
      "129/129 [==============================] - 0s 1ms/step - loss: 0.0105\n"
     ]
    },
    {
     "data": {
      "text/plain": [
       "0.010474639013409615"
      ]
     },
     "execution_count": 77,
     "metadata": {},
     "output_type": "execute_result"
    }
   ],
   "source": [
    "model.evaluate(X_test, y_test)"
   ]
  },
  {
   "cell_type": "code",
   "execution_count": 79,
   "metadata": {
    "execution": {
     "iopub.execute_input": "2021-09-28T16:50:09.070377Z",
     "iopub.status.busy": "2021-09-28T16:50:09.070108Z",
     "iopub.status.idle": "2021-09-28T16:50:09.487486Z",
     "shell.execute_reply": "2021-09-28T16:50:09.486773Z",
     "shell.execute_reply.started": "2021-09-28T16:50:09.070350Z"
    }
   },
   "outputs": [
    {
     "name": "stdout",
     "output_type": "stream",
     "text": [
      "predicted 47.5191764831543 for 26.5\n",
      "predicted 47.87438201904297 for 49.2\n",
      "predicted 59.920440673828125 for 41.0\n",
      "predicted 52.52093505859375 for 42.0\n",
      "predicted 108.52515411376953 for 110.0\n",
      "predicted 46.397159576416016 for 40.0\n",
      "predicted 92.87852478027344 for 120.0\n",
      "predicted 49.24797439575195 for 26.0\n",
      "predicted 58.260719299316406 for 62.0\n",
      "predicted 337.045654296875 for 125.0\n"
     ]
    }
   ],
   "source": [
    "# lets see the first 10 values\n",
    "for i in range(10):\n",
    "    test = np.array(X_test.iloc[i]).reshape(1,X_test.shape[1])\n",
    "    y_pred = model.predict(test)\n",
    "    # y_pred[0][0],y_test[0]\n",
    "    y_true = np.array(y_test)\n",
    "    y_true = y_true.reshape(-1,1)\n",
    "    print(f\"predicted {price_scaler.inverse_transform(y_pred)[0][0]} for {price_scaler.inverse_transform(y_true)[i][0]}\")"
   ]
  },
  {
   "cell_type": "markdown",
   "metadata": {},
   "source": [
    "<h1> now lets use machine learning and regression techniques</h1>"
   ]
  },
  {
   "cell_type": "code",
   "execution_count": 80,
   "metadata": {
    "execution": {
     "iopub.execute_input": "2021-09-28T16:52:06.251137Z",
     "iopub.status.busy": "2021-09-28T16:52:06.250836Z",
     "iopub.status.idle": "2021-09-28T16:52:06.365788Z",
     "shell.execute_reply": "2021-09-28T16:52:06.364885Z",
     "shell.execute_reply.started": "2021-09-28T16:52:06.251107Z"
    }
   },
   "outputs": [
    {
     "data": {
      "text/plain": [
       "0.3922687947689882"
      ]
     },
     "execution_count": 80,
     "metadata": {},
     "output_type": "execute_result"
    }
   ],
   "source": [
    "from sklearn.model_selection import ShuffleSplit\n",
    "from sklearn.model_selection import cross_val_score\n",
    "from sklearn.linear_model import LinearRegression\n",
    "# here we use linear regression with multiple testes set and see the result\n",
    "cv = ShuffleSplit(n_splits=10, test_size=0.2, random_state=0)\n",
    "\n",
    "cross_val_score(LinearRegression(), x, y, cv=cv).mean()"
   ]
  },
  {
   "cell_type": "code",
   "execution_count": 81,
   "metadata": {
    "execution": {
     "iopub.execute_input": "2021-09-28T16:52:52.471170Z",
     "iopub.status.busy": "2021-09-28T16:52:52.470517Z",
     "iopub.status.idle": "2021-09-28T16:52:53.919056Z",
     "shell.execute_reply": "2021-09-28T16:52:53.918191Z",
     "shell.execute_reply.started": "2021-09-28T16:52:52.471131Z"
    }
   },
   "outputs": [
    {
     "data": {
      "text/html": [
       "<div>\n",
       "<style scoped>\n",
       "    .dataframe tbody tr th:only-of-type {\n",
       "        vertical-align: middle;\n",
       "    }\n",
       "\n",
       "    .dataframe tbody tr th {\n",
       "        vertical-align: top;\n",
       "    }\n",
       "\n",
       "    .dataframe thead th {\n",
       "        text-align: right;\n",
       "    }\n",
       "</style>\n",
       "<table border=\"1\" class=\"dataframe\">\n",
       "  <thead>\n",
       "    <tr style=\"text-align: right;\">\n",
       "      <th></th>\n",
       "      <th>model</th>\n",
       "      <th>best_score</th>\n",
       "      <th>best_params</th>\n",
       "    </tr>\n",
       "  </thead>\n",
       "  <tbody>\n",
       "    <tr>\n",
       "      <th>0</th>\n",
       "      <td>linear_regression</td>\n",
       "      <td>0.357042</td>\n",
       "      <td>{'normalize': True}</td>\n",
       "    </tr>\n",
       "    <tr>\n",
       "      <th>1</th>\n",
       "      <td>lasso</td>\n",
       "      <td>0.357059</td>\n",
       "      <td>{'alpha': 1, 'selection': 'random'}</td>\n",
       "    </tr>\n",
       "    <tr>\n",
       "      <th>2</th>\n",
       "      <td>decision_tree</td>\n",
       "      <td>0.267396</td>\n",
       "      <td>{'criterion': 'mse', 'splitter': 'best'}</td>\n",
       "    </tr>\n",
       "  </tbody>\n",
       "</table>\n",
       "</div>"
      ],
      "text/plain": [
       "               model  best_score                               best_params\n",
       "0  linear_regression    0.357042                       {'normalize': True}\n",
       "1              lasso    0.357059       {'alpha': 1, 'selection': 'random'}\n",
       "2      decision_tree    0.267396  {'criterion': 'mse', 'splitter': 'best'}"
      ]
     },
     "execution_count": 81,
     "metadata": {},
     "output_type": "execute_result"
    }
   ],
   "source": [
    "# now lets try many models and see which is the best\n",
    "from sklearn.model_selection import GridSearchCV\n",
    "# these are 2 other ways to do regression\n",
    "from sklearn.linear_model import Lasso\n",
    "from sklearn.tree import DecisionTreeRegressor\n",
    "\n",
    "def find_best_model_using_gridsearchcv(X,y):\n",
    "    algos = {\n",
    "        'linear_regression' : {\n",
    "            'model': LinearRegression(),\n",
    "            'params': {\n",
    "                'normalize': [True, False]\n",
    "            }\n",
    "        },\n",
    "        'lasso': {\n",
    "            'model': Lasso(),\n",
    "            'params': {\n",
    "                'alpha': [1,2],\n",
    "                'selection': ['random', 'cyclic']\n",
    "            }\n",
    "        },\n",
    "        'decision_tree': {\n",
    "            'model': DecisionTreeRegressor(),\n",
    "            'params': {\n",
    "                'criterion' : ['mse','friedman_mse'],\n",
    "                'splitter': ['best','random']\n",
    "            }\n",
    "        }\n",
    "    }\n",
    "    scores = []\n",
    "    cv = ShuffleSplit(n_splits=5, test_size=0.2, random_state=0)\n",
    "    for algo_name, config in algos.items():\n",
    "        gs =  GridSearchCV(config['model'], config['params'], cv=cv, return_train_score=False)\n",
    "        gs.fit(X,y)\n",
    "        scores.append({\n",
    "            'model': algo_name,\n",
    "            'best_score': gs.best_score_,\n",
    "            'best_params': gs.best_params_\n",
    "        })\n",
    "\n",
    "    return pd.DataFrame(scores,columns=['model','best_score','best_params'])\n",
    "\n",
    "find_best_model_using_gridsearchcv(x,y)"
   ]
  },
  {
   "cell_type": "code",
   "execution_count": 82,
   "metadata": {
    "execution": {
     "iopub.execute_input": "2021-09-28T16:55:23.932059Z",
     "iopub.status.busy": "2021-09-28T16:55:23.931330Z",
     "iopub.status.idle": "2021-09-28T16:55:23.952806Z",
     "shell.execute_reply": "2021-09-28T16:55:23.951983Z",
     "shell.execute_reply.started": "2021-09-28T16:55:23.931995Z"
    }
   },
   "outputs": [
    {
     "data": {
      "text/plain": [
       "0.4659255692161228"
      ]
     },
     "execution_count": 82,
     "metadata": {},
     "output_type": "execute_result"
    }
   ],
   "source": [
    "X_train, X_test, y_train, y_test = train_test_split(x,y,test_size=0.2,random_state=10)\n",
    "lr_clf = LinearRegression()\n",
    "lr_clf.fit(X_train,y_train)\n",
    "lr_clf.score(X_test,y_test)"
   ]
  },
  {
   "cell_type": "code",
   "execution_count": 83,
   "metadata": {
    "execution": {
     "iopub.execute_input": "2021-09-28T16:59:46.473484Z",
     "iopub.status.busy": "2021-09-28T16:59:46.473198Z",
     "iopub.status.idle": "2021-09-28T16:59:46.485453Z",
     "shell.execute_reply": "2021-09-28T16:59:46.484086Z",
     "shell.execute_reply.started": "2021-09-28T16:59:46.473456Z"
    }
   },
   "outputs": [
    {
     "name": "stdout",
     "output_type": "stream",
     "text": [
      "predicted 62.120755870514 for 57.0\n",
      "predicted 345.20774994876643 for 180.0\n",
      "predicted 55.41444475352901 for 29.6\n",
      "predicted 45.35630289490521 for 40.0\n",
      "predicted 123.14097671798747 for 99.0\n",
      "predicted 57.12257578890582 for 32.0\n",
      "predicted 71.16774292868985 for 59.0\n",
      "predicted 86.53777453494173 for 26.0\n",
      "predicted 53.563058214277774 for 34.0\n",
      "predicted 60.01217910799153 for 43.0\n"
     ]
    }
   ],
   "source": [
    "y_pred = lr_clf.predict(X_test)\n",
    "for i in range(10):\n",
    "    print(f\"predicted {y_pred[i]} for {y_test.iloc[i]}\")"
   ]
  },
  {
   "cell_type": "code",
   "execution_count": null,
   "metadata": {},
   "outputs": [],
   "source": []
  }
 ],
 "metadata": {
  "kernelspec": {
   "display_name": "Python 3 (ipykernel)",
   "language": "python",
   "name": "python3"
  },
  "language_info": {
   "codemirror_mode": {
    "name": "ipython",
    "version": 3
   },
   "file_extension": ".py",
   "mimetype": "text/x-python",
   "name": "python",
   "nbconvert_exporter": "python",
   "pygments_lexer": "ipython3",
   "version": "3.8.8"
  }
 },
 "nbformat": 4,
 "nbformat_minor": 4
}
